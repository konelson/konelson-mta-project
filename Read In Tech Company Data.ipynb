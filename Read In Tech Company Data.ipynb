{
 "cells": [
  {
   "cell_type": "code",
   "execution_count": 11,
   "metadata": {},
   "outputs": [],
   "source": [
    "import pandas as pd\n",
    "import pickle"
   ]
  },
  {
   "cell_type": "code",
   "execution_count": 35,
   "metadata": {},
   "outputs": [
    {
     "data": {
      "text/html": [
       "<div>\n",
       "<style scoped>\n",
       "    .dataframe tbody tr th:only-of-type {\n",
       "        vertical-align: middle;\n",
       "    }\n",
       "\n",
       "    .dataframe tbody tr th {\n",
       "        vertical-align: top;\n",
       "    }\n",
       "\n",
       "    .dataframe thead th {\n",
       "        text-align: right;\n",
       "    }\n",
       "</style>\n",
       "<table border=\"1\" class=\"dataframe\">\n",
       "  <thead>\n",
       "    <tr style=\"text-align: right;\">\n",
       "      <th></th>\n",
       "      <th>Company</th>\n",
       "      <th>zipcode</th>\n",
       "    </tr>\n",
       "  </thead>\n",
       "  <tbody>\n",
       "    <tr>\n",
       "      <th>0</th>\n",
       "      <td>1stdibs</td>\n",
       "      <td>10016</td>\n",
       "    </tr>\n",
       "    <tr>\n",
       "      <th>1</th>\n",
       "      <td>helloalfred</td>\n",
       "      <td>10013</td>\n",
       "    </tr>\n",
       "    <tr>\n",
       "      <th>2</th>\n",
       "      <td>andela</td>\n",
       "      <td>10001</td>\n",
       "    </tr>\n",
       "    <tr>\n",
       "      <th>3</th>\n",
       "      <td>appboy</td>\n",
       "      <td>10018</td>\n",
       "    </tr>\n",
       "    <tr>\n",
       "      <th>4</th>\n",
       "      <td>appnexus</td>\n",
       "      <td>10010</td>\n",
       "    </tr>\n",
       "  </tbody>\n",
       "</table>\n",
       "</div>"
      ],
      "text/plain": [
       "       Company  zipcode\n",
       "0      1stdibs    10016\n",
       "1  helloalfred    10013\n",
       "2       andela    10001\n",
       "3       appboy    10018\n",
       "4     appnexus    10010"
      ]
     },
     "execution_count": 35,
     "metadata": {},
     "output_type": "execute_result"
    }
   ],
   "source": [
    "#Import list of NYC technology companies scraped from http://startupguide.nyc/\n",
    "tech_zip = pd.read_csv(r\"C:\\Users\\jphos\\Documents\\Metis\\tech_companies.csv\")\n",
    "tech_zip.head()"
   ]
  },
  {
   "cell_type": "code",
   "execution_count": 36,
   "metadata": {},
   "outputs": [
    {
     "data": {
      "text/plain": [
       "10010    16\n",
       "10018    12\n",
       "10012    10\n",
       "10003     8\n",
       "10013     7\n",
       "10001     6\n",
       "10011     5\n",
       "10014     5\n",
       "10016     4\n",
       "10017     3\n",
       "10004     3\n",
       "10007     3\n",
       "10038     2\n",
       "10006     2\n",
       "10021     1\n",
       "11421     1\n",
       "10002     1\n",
       "11232     1\n",
       "11211     1\n",
       "11101     1\n",
       "10019     1\n",
       "11201     1\n",
       "10036     1\n",
       "11237     1\n",
       "10032     1\n",
       "10474     1\n",
       "Name: zipcode, dtype: int64"
      ]
     },
     "execution_count": 36,
     "metadata": {},
     "output_type": "execute_result"
    }
   ],
   "source": [
    "#Look at distribution of technology companies by zip codes\n",
    "tech_zip[\"zipcode\"].value_counts()"
   ]
  },
  {
   "cell_type": "code",
   "execution_count": 45,
   "metadata": {},
   "outputs": [],
   "source": [
    "#Create file with zip codes where there are 5 or more technology companies\n",
    "tech_zip_count = tech_zip.groupby(by = [\"zipcode\"]).count()\n",
    "tech_zip_count = tech_zip_count.loc[tech_zip_count[\"Company\"] >= 5]"
   ]
  },
  {
   "cell_type": "code",
   "execution_count": 46,
   "metadata": {},
   "outputs": [
    {
     "data": {
      "text/plain": [
       "8"
      ]
     },
     "execution_count": 46,
     "metadata": {},
     "output_type": "execute_result"
    }
   ],
   "source": [
    "#Check number of zip codes output for technology target\n",
    "tech_zip_count.shape[0]"
   ]
  },
  {
   "cell_type": "code",
   "execution_count": 42,
   "metadata": {},
   "outputs": [],
   "source": [
    "#Create file for use with final target selection\n",
    "with open('tech_company_zips.pickle', 'wb') as to_write:\n",
    "    pickle.dump(tech_zip_count, to_write)"
   ]
  }
 ],
 "metadata": {
  "kernelspec": {
   "display_name": "Python 3",
   "language": "python",
   "name": "python3"
  },
  "language_info": {
   "codemirror_mode": {
    "name": "ipython",
    "version": 3
   },
   "file_extension": ".py",
   "mimetype": "text/x-python",
   "name": "python",
   "nbconvert_exporter": "python",
   "pygments_lexer": "ipython3",
   "version": "3.6.5"
  }
 },
 "nbformat": 4,
 "nbformat_minor": 2
}
