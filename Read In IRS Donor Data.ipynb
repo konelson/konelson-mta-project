{
 "cells": [
  {
   "cell_type": "code",
   "execution_count": 22,
   "metadata": {},
   "outputs": [],
   "source": [
    "import pandas as pd\n",
    "import pickle\n",
    "import matplotlib.pyplot as plt"
   ]
  },
  {
   "cell_type": "code",
   "execution_count": 7,
   "metadata": {
    "scrolled": true
   },
   "outputs": [
    {
     "data": {
      "text/html": [
       "<div>\n",
       "<style scoped>\n",
       "    .dataframe tbody tr th:only-of-type {\n",
       "        vertical-align: middle;\n",
       "    }\n",
       "\n",
       "    .dataframe tbody tr th {\n",
       "        vertical-align: top;\n",
       "    }\n",
       "\n",
       "    .dataframe thead th {\n",
       "        text-align: right;\n",
       "    }\n",
       "</style>\n",
       "<table border=\"1\" class=\"dataframe\">\n",
       "  <thead>\n",
       "    <tr style=\"text-align: right;\">\n",
       "      <th></th>\n",
       "      <th>STATEFIPS</th>\n",
       "      <th>STATE</th>\n",
       "      <th>zipcode</th>\n",
       "      <th>agi_stub</th>\n",
       "      <th>N1</th>\n",
       "      <th>mars1</th>\n",
       "      <th>MARS2</th>\n",
       "      <th>MARS4</th>\n",
       "      <th>PREP</th>\n",
       "      <th>N2</th>\n",
       "      <th>...</th>\n",
       "      <th>N10300</th>\n",
       "      <th>A10300</th>\n",
       "      <th>N85530</th>\n",
       "      <th>A85530</th>\n",
       "      <th>N85300</th>\n",
       "      <th>A85300</th>\n",
       "      <th>N11901</th>\n",
       "      <th>A11901</th>\n",
       "      <th>N11902</th>\n",
       "      <th>A11902</th>\n",
       "    </tr>\n",
       "  </thead>\n",
       "  <tbody>\n",
       "    <tr>\n",
       "      <th>0</th>\n",
       "      <td>1</td>\n",
       "      <td>AL</td>\n",
       "      <td>0</td>\n",
       "      <td>1</td>\n",
       "      <td>836320.0</td>\n",
       "      <td>481570.0</td>\n",
       "      <td>109790.0</td>\n",
       "      <td>233260.0</td>\n",
       "      <td>455560.0</td>\n",
       "      <td>1356760.0</td>\n",
       "      <td>...</td>\n",
       "      <td>373410.0</td>\n",
       "      <td>328469.0</td>\n",
       "      <td>0.0</td>\n",
       "      <td>0.0</td>\n",
       "      <td>0.0</td>\n",
       "      <td>0.0</td>\n",
       "      <td>61920.0</td>\n",
       "      <td>48150.0</td>\n",
       "      <td>732670.0</td>\n",
       "      <td>1933120.0</td>\n",
       "    </tr>\n",
       "    <tr>\n",
       "      <th>1</th>\n",
       "      <td>1</td>\n",
       "      <td>AL</td>\n",
       "      <td>0</td>\n",
       "      <td>2</td>\n",
       "      <td>494830.0</td>\n",
       "      <td>206630.0</td>\n",
       "      <td>146250.0</td>\n",
       "      <td>129390.0</td>\n",
       "      <td>275920.0</td>\n",
       "      <td>1010990.0</td>\n",
       "      <td>...</td>\n",
       "      <td>395880.0</td>\n",
       "      <td>965011.0</td>\n",
       "      <td>0.0</td>\n",
       "      <td>0.0</td>\n",
       "      <td>0.0</td>\n",
       "      <td>0.0</td>\n",
       "      <td>73720.0</td>\n",
       "      <td>107304.0</td>\n",
       "      <td>415410.0</td>\n",
       "      <td>1187403.0</td>\n",
       "    </tr>\n",
       "    <tr>\n",
       "      <th>2</th>\n",
       "      <td>1</td>\n",
       "      <td>AL</td>\n",
       "      <td>0</td>\n",
       "      <td>3</td>\n",
       "      <td>261250.0</td>\n",
       "      <td>80720.0</td>\n",
       "      <td>139280.0</td>\n",
       "      <td>36130.0</td>\n",
       "      <td>155100.0</td>\n",
       "      <td>583910.0</td>\n",
       "      <td>...</td>\n",
       "      <td>251490.0</td>\n",
       "      <td>1333418.0</td>\n",
       "      <td>0.0</td>\n",
       "      <td>0.0</td>\n",
       "      <td>0.0</td>\n",
       "      <td>0.0</td>\n",
       "      <td>64200.0</td>\n",
       "      <td>139598.0</td>\n",
       "      <td>193030.0</td>\n",
       "      <td>536699.0</td>\n",
       "    </tr>\n",
       "    <tr>\n",
       "      <th>3</th>\n",
       "      <td>1</td>\n",
       "      <td>AL</td>\n",
       "      <td>0</td>\n",
       "      <td>4</td>\n",
       "      <td>166690.0</td>\n",
       "      <td>28510.0</td>\n",
       "      <td>124650.0</td>\n",
       "      <td>10630.0</td>\n",
       "      <td>99950.0</td>\n",
       "      <td>423990.0</td>\n",
       "      <td>...</td>\n",
       "      <td>165320.0</td>\n",
       "      <td>1414283.0</td>\n",
       "      <td>0.0</td>\n",
       "      <td>0.0</td>\n",
       "      <td>0.0</td>\n",
       "      <td>0.0</td>\n",
       "      <td>45460.0</td>\n",
       "      <td>128823.0</td>\n",
       "      <td>116440.0</td>\n",
       "      <td>377177.0</td>\n",
       "    </tr>\n",
       "    <tr>\n",
       "      <th>4</th>\n",
       "      <td>1</td>\n",
       "      <td>AL</td>\n",
       "      <td>0</td>\n",
       "      <td>5</td>\n",
       "      <td>212660.0</td>\n",
       "      <td>19520.0</td>\n",
       "      <td>184320.0</td>\n",
       "      <td>4830.0</td>\n",
       "      <td>126860.0</td>\n",
       "      <td>589490.0</td>\n",
       "      <td>...</td>\n",
       "      <td>212000.0</td>\n",
       "      <td>3820152.0</td>\n",
       "      <td>420.0</td>\n",
       "      <td>168.0</td>\n",
       "      <td>60.0</td>\n",
       "      <td>31.0</td>\n",
       "      <td>83330.0</td>\n",
       "      <td>421004.0</td>\n",
       "      <td>121570.0</td>\n",
       "      <td>483682.0</td>\n",
       "    </tr>\n",
       "  </tbody>\n",
       "</table>\n",
       "<p>5 rows × 131 columns</p>\n",
       "</div>"
      ],
      "text/plain": [
       "   STATEFIPS STATE  zipcode  agi_stub        N1     mars1     MARS2     MARS4  \\\n",
       "0          1    AL        0         1  836320.0  481570.0  109790.0  233260.0   \n",
       "1          1    AL        0         2  494830.0  206630.0  146250.0  129390.0   \n",
       "2          1    AL        0         3  261250.0   80720.0  139280.0   36130.0   \n",
       "3          1    AL        0         4  166690.0   28510.0  124650.0   10630.0   \n",
       "4          1    AL        0         5  212660.0   19520.0  184320.0    4830.0   \n",
       "\n",
       "       PREP         N2    ...        N10300     A10300  N85530  A85530  \\\n",
       "0  455560.0  1356760.0    ...      373410.0   328469.0     0.0     0.0   \n",
       "1  275920.0  1010990.0    ...      395880.0   965011.0     0.0     0.0   \n",
       "2  155100.0   583910.0    ...      251490.0  1333418.0     0.0     0.0   \n",
       "3   99950.0   423990.0    ...      165320.0  1414283.0     0.0     0.0   \n",
       "4  126860.0   589490.0    ...      212000.0  3820152.0   420.0   168.0   \n",
       "\n",
       "   N85300  A85300   N11901    A11901    N11902     A11902  \n",
       "0     0.0     0.0  61920.0   48150.0  732670.0  1933120.0  \n",
       "1     0.0     0.0  73720.0  107304.0  415410.0  1187403.0  \n",
       "2     0.0     0.0  64200.0  139598.0  193030.0   536699.0  \n",
       "3     0.0     0.0  45460.0  128823.0  116440.0   377177.0  \n",
       "4    60.0    31.0  83330.0  421004.0  121570.0   483682.0  \n",
       "\n",
       "[5 rows x 131 columns]"
      ]
     },
     "execution_count": 7,
     "metadata": {},
     "output_type": "execute_result"
    }
   ],
   "source": [
    "#Get 2015 (most recent available) IRS return data by zip code and create dataframe\n",
    "donor_raw = pd.read_csv(\"https://www.irs.gov/pub/irs-soi/15zpallagi.csv\")\n",
    "donor_raw.head()"
   ]
  },
  {
   "cell_type": "code",
   "execution_count": 44,
   "metadata": {},
   "outputs": [
    {
     "data": {
      "text/plain": [
       "166698"
      ]
     },
     "execution_count": 44,
     "metadata": {},
     "output_type": "execute_result"
    }
   ],
   "source": [
    "#Check the number of imported records\n",
    "donor_raw.zipcode.shape[0]"
   ]
  },
  {
   "cell_type": "code",
   "execution_count": 32,
   "metadata": {},
   "outputs": [
    {
     "data": {
      "text/html": [
       "<div>\n",
       "<style scoped>\n",
       "    .dataframe tbody tr th:only-of-type {\n",
       "        vertical-align: middle;\n",
       "    }\n",
       "\n",
       "    .dataframe tbody tr th {\n",
       "        vertical-align: top;\n",
       "    }\n",
       "\n",
       "    .dataframe thead th {\n",
       "        text-align: right;\n",
       "    }\n",
       "</style>\n",
       "<table border=\"1\" class=\"dataframe\">\n",
       "  <thead>\n",
       "    <tr style=\"text-align: right;\">\n",
       "      <th></th>\n",
       "      <th>LAT</th>\n",
       "      <th>LON</th>\n",
       "      <th>STATION</th>\n",
       "      <th>zipcode</th>\n",
       "    </tr>\n",
       "  </thead>\n",
       "  <tbody>\n",
       "    <tr>\n",
       "      <th>378</th>\n",
       "      <td>0.551045</td>\n",
       "      <td>-74.1514904</td>\n",
       "      <td>NELSON AV &amp; BROWER ST AT NE CORNER</td>\n",
       "      <td>83010</td>\n",
       "    </tr>\n",
       "    <tr>\n",
       "      <th>53</th>\n",
       "      <td>0.688157</td>\n",
       "      <td>-73.965579</td>\n",
       "      <td>WASHINGTON AVE &amp; LAFAYETTE AVE AT SE CORNER</td>\n",
       "      <td>82010</td>\n",
       "    </tr>\n",
       "    <tr>\n",
       "      <th>1096</th>\n",
       "      <td>40.583369</td>\n",
       "      <td>-73.827474</td>\n",
       "      <td>BEACH 106TH ST &amp; ROCKAWAY FRWY AT SW CORNER</td>\n",
       "      <td>11694</td>\n",
       "    </tr>\n",
       "    <tr>\n",
       "      <th>1077</th>\n",
       "      <td>40.588080</td>\n",
       "      <td>-73.813907</td>\n",
       "      <td>BEACH 89TH ST &amp; ROCKAWAY FRWY AT NW CORNER</td>\n",
       "      <td>11693</td>\n",
       "    </tr>\n",
       "    <tr>\n",
       "      <th>1079</th>\n",
       "      <td>40.590744</td>\n",
       "      <td>-73.797789</td>\n",
       "      <td>BEACH 67TH ST &amp; ROCKAWAY FRWY AT NW CORNER</td>\n",
       "      <td>11692</td>\n",
       "    </tr>\n",
       "  </tbody>\n",
       "</table>\n",
       "</div>"
      ],
      "text/plain": [
       "            LAT          LON                                      STATION  \\\n",
       "378    0.551045  -74.1514904           NELSON AV & BROWER ST AT NE CORNER   \n",
       "53     0.688157   -73.965579  WASHINGTON AVE & LAFAYETTE AVE AT SE CORNER   \n",
       "1096  40.583369   -73.827474  BEACH 106TH ST & ROCKAWAY FRWY AT SW CORNER   \n",
       "1077  40.588080   -73.813907   BEACH 89TH ST & ROCKAWAY FRWY AT NW CORNER   \n",
       "1079  40.590744   -73.797789   BEACH 67TH ST & ROCKAWAY FRWY AT NW CORNER   \n",
       "\n",
       "      zipcode  \n",
       "378     83010  \n",
       "53      82010  \n",
       "1096    11694  \n",
       "1077    11693  \n",
       "1079    11692  "
      ]
     },
     "execution_count": 32,
     "metadata": {},
     "output_type": "execute_result"
    }
   ],
   "source": [
    "with open('mta_zip_unique.pickle','rb') as read_file:\n",
    "    new_mta_zip = pickle.load(read_file)\n",
    "new_mta_zip.head()"
   ]
  },
  {
   "cell_type": "code",
   "execution_count": 33,
   "metadata": {},
   "outputs": [
    {
     "data": {
      "text/plain": [
       "139"
      ]
     },
     "execution_count": 33,
     "metadata": {},
     "output_type": "execute_result"
    }
   ],
   "source": [
    "#Check the number of imported zip codes\n",
    "new_mta_zip.shape[0]"
   ]
  },
  {
   "cell_type": "code",
   "execution_count": 13,
   "metadata": {},
   "outputs": [],
   "source": [
    "donor_zip = pd.DataFrame.merge(donor_raw,new_mta_zip,on=\"zipcode\")"
   ]
  },
  {
   "cell_type": "code",
   "execution_count": 17,
   "metadata": {},
   "outputs": [
    {
     "data": {
      "text/html": [
       "<div>\n",
       "<style scoped>\n",
       "    .dataframe tbody tr th:only-of-type {\n",
       "        vertical-align: middle;\n",
       "    }\n",
       "\n",
       "    .dataframe tbody tr th {\n",
       "        vertical-align: top;\n",
       "    }\n",
       "\n",
       "    .dataframe thead th {\n",
       "        text-align: right;\n",
       "    }\n",
       "</style>\n",
       "<table border=\"1\" class=\"dataframe\">\n",
       "  <thead>\n",
       "    <tr style=\"text-align: right;\">\n",
       "      <th></th>\n",
       "      <th>zipcode</th>\n",
       "      <th>agi_stub</th>\n",
       "      <th>N02650</th>\n",
       "      <th>A02650</th>\n",
       "      <th>N19700</th>\n",
       "      <th>A19700</th>\n",
       "    </tr>\n",
       "  </thead>\n",
       "  <tbody>\n",
       "    <tr>\n",
       "      <th>0</th>\n",
       "      <td>10001</td>\n",
       "      <td>1</td>\n",
       "      <td>3760.0</td>\n",
       "      <td>44588.0</td>\n",
       "      <td>200.0</td>\n",
       "      <td>288.0</td>\n",
       "    </tr>\n",
       "    <tr>\n",
       "      <th>1</th>\n",
       "      <td>10001</td>\n",
       "      <td>2</td>\n",
       "      <td>2430.0</td>\n",
       "      <td>92506.0</td>\n",
       "      <td>380.0</td>\n",
       "      <td>804.0</td>\n",
       "    </tr>\n",
       "    <tr>\n",
       "      <th>2</th>\n",
       "      <td>10001</td>\n",
       "      <td>3</td>\n",
       "      <td>1930.0</td>\n",
       "      <td>121893.0</td>\n",
       "      <td>580.0</td>\n",
       "      <td>1145.0</td>\n",
       "    </tr>\n",
       "    <tr>\n",
       "      <th>3</th>\n",
       "      <td>10001</td>\n",
       "      <td>4</td>\n",
       "      <td>1340.0</td>\n",
       "      <td>117209.0</td>\n",
       "      <td>720.0</td>\n",
       "      <td>1391.0</td>\n",
       "    </tr>\n",
       "    <tr>\n",
       "      <th>4</th>\n",
       "      <td>10001</td>\n",
       "      <td>5</td>\n",
       "      <td>2480.0</td>\n",
       "      <td>353017.0</td>\n",
       "      <td>1520.0</td>\n",
       "      <td>3537.0</td>\n",
       "    </tr>\n",
       "  </tbody>\n",
       "</table>\n",
       "</div>"
      ],
      "text/plain": [
       "   zipcode  agi_stub  N02650    A02650  N19700  A19700\n",
       "0    10001         1  3760.0   44588.0   200.0   288.0\n",
       "1    10001         2  2430.0   92506.0   380.0   804.0\n",
       "2    10001         3  1930.0  121893.0   580.0  1145.0\n",
       "3    10001         4  1340.0  117209.0   720.0  1391.0\n",
       "4    10001         5  2480.0  353017.0  1520.0  3537.0"
      ]
     },
     "execution_count": 17,
     "metadata": {},
     "output_type": "execute_result"
    }
   ],
   "source": [
    "donor_zip = donor_zip[[\"zipcode\",\"agi_stub\",\"N02650\",\"A02650\",\"N19700\",\"A19700\"]]\n",
    "donor_zip.head()"
   ]
  },
  {
   "cell_type": "code",
   "execution_count": 19,
   "metadata": {},
   "outputs": [
    {
     "data": {
      "text/html": [
       "<div>\n",
       "<style scoped>\n",
       "    .dataframe tbody tr th:only-of-type {\n",
       "        vertical-align: middle;\n",
       "    }\n",
       "\n",
       "    .dataframe tbody tr th {\n",
       "        vertical-align: top;\n",
       "    }\n",
       "\n",
       "    .dataframe thead th {\n",
       "        text-align: right;\n",
       "    }\n",
       "</style>\n",
       "<table border=\"1\" class=\"dataframe\">\n",
       "  <thead>\n",
       "    <tr style=\"text-align: right;\">\n",
       "      <th></th>\n",
       "      <th>N02650</th>\n",
       "      <th>A02650</th>\n",
       "      <th>N19700</th>\n",
       "      <th>A19700</th>\n",
       "    </tr>\n",
       "    <tr>\n",
       "      <th>zipcode</th>\n",
       "      <th></th>\n",
       "      <th></th>\n",
       "      <th></th>\n",
       "      <th></th>\n",
       "    </tr>\n",
       "  </thead>\n",
       "  <tbody>\n",
       "    <tr>\n",
       "      <th>10001</th>\n",
       "      <td>14310.0</td>\n",
       "      <td>2402685.0</td>\n",
       "      <td>5230.0</td>\n",
       "      <td>34731.0</td>\n",
       "    </tr>\n",
       "    <tr>\n",
       "      <th>10002</th>\n",
       "      <td>43190.0</td>\n",
       "      <td>2334694.0</td>\n",
       "      <td>6970.0</td>\n",
       "      <td>21115.0</td>\n",
       "    </tr>\n",
       "    <tr>\n",
       "      <th>10003</th>\n",
       "      <td>30050.0</td>\n",
       "      <td>7562151.0</td>\n",
       "      <td>14180.0</td>\n",
       "      <td>134500.0</td>\n",
       "    </tr>\n",
       "    <tr>\n",
       "      <th>10004</th>\n",
       "      <td>2490.0</td>\n",
       "      <td>1018420.0</td>\n",
       "      <td>1250.0</td>\n",
       "      <td>20318.0</td>\n",
       "    </tr>\n",
       "    <tr>\n",
       "      <th>10005</th>\n",
       "      <td>6160.0</td>\n",
       "      <td>3812495.0</td>\n",
       "      <td>2700.0</td>\n",
       "      <td>198932.0</td>\n",
       "    </tr>\n",
       "  </tbody>\n",
       "</table>\n",
       "</div>"
      ],
      "text/plain": [
       "          N02650     A02650   N19700    A19700\n",
       "zipcode                                       \n",
       "10001    14310.0  2402685.0   5230.0   34731.0\n",
       "10002    43190.0  2334694.0   6970.0   21115.0\n",
       "10003    30050.0  7562151.0  14180.0  134500.0\n",
       "10004     2490.0  1018420.0   1250.0   20318.0\n",
       "10005     6160.0  3812495.0   2700.0  198932.0"
      ]
     },
     "execution_count": 19,
     "metadata": {},
     "output_type": "execute_result"
    }
   ],
   "source": [
    "donor_sum = donor_zip.groupby(by = [\"zipcode\"])[[\"N02650\",\"A02650\",\"N19700\",\"A19700\"]].sum()\n",
    "donor_sum.head()"
   ]
  },
  {
   "cell_type": "code",
   "execution_count": 30,
   "metadata": {},
   "outputs": [
    {
     "data": {
      "text/plain": [
       "131"
      ]
     },
     "execution_count": 30,
     "metadata": {},
     "output_type": "execute_result"
    }
   ],
   "source": [
    "#Check number of zip codes in summarized data\n",
    "donor_sum.shape[0]"
   ]
  },
  {
   "cell_type": "code",
   "execution_count": 20,
   "metadata": {},
   "outputs": [
    {
     "data": {
      "text/html": [
       "<div>\n",
       "<style scoped>\n",
       "    .dataframe tbody tr th:only-of-type {\n",
       "        vertical-align: middle;\n",
       "    }\n",
       "\n",
       "    .dataframe tbody tr th {\n",
       "        vertical-align: top;\n",
       "    }\n",
       "\n",
       "    .dataframe thead th {\n",
       "        text-align: right;\n",
       "    }\n",
       "</style>\n",
       "<table border=\"1\" class=\"dataframe\">\n",
       "  <thead>\n",
       "    <tr style=\"text-align: right;\">\n",
       "      <th></th>\n",
       "      <th>N02650</th>\n",
       "      <th>A02650</th>\n",
       "      <th>N19700</th>\n",
       "      <th>A19700</th>\n",
       "      <th>PCT_DONORS</th>\n",
       "      <th>PCT_INCOME</th>\n",
       "    </tr>\n",
       "    <tr>\n",
       "      <th>zipcode</th>\n",
       "      <th></th>\n",
       "      <th></th>\n",
       "      <th></th>\n",
       "      <th></th>\n",
       "      <th></th>\n",
       "      <th></th>\n",
       "    </tr>\n",
       "  </thead>\n",
       "  <tbody>\n",
       "    <tr>\n",
       "      <th>10001</th>\n",
       "      <td>14310.0</td>\n",
       "      <td>2402685.0</td>\n",
       "      <td>5230.0</td>\n",
       "      <td>34731.0</td>\n",
       "      <td>0.365479</td>\n",
       "      <td>0.014455</td>\n",
       "    </tr>\n",
       "    <tr>\n",
       "      <th>10002</th>\n",
       "      <td>43190.0</td>\n",
       "      <td>2334694.0</td>\n",
       "      <td>6970.0</td>\n",
       "      <td>21115.0</td>\n",
       "      <td>0.161380</td>\n",
       "      <td>0.009044</td>\n",
       "    </tr>\n",
       "    <tr>\n",
       "      <th>10003</th>\n",
       "      <td>30050.0</td>\n",
       "      <td>7562151.0</td>\n",
       "      <td>14180.0</td>\n",
       "      <td>134500.0</td>\n",
       "      <td>0.471880</td>\n",
       "      <td>0.017786</td>\n",
       "    </tr>\n",
       "    <tr>\n",
       "      <th>10004</th>\n",
       "      <td>2490.0</td>\n",
       "      <td>1018420.0</td>\n",
       "      <td>1250.0</td>\n",
       "      <td>20318.0</td>\n",
       "      <td>0.502008</td>\n",
       "      <td>0.019951</td>\n",
       "    </tr>\n",
       "    <tr>\n",
       "      <th>10005</th>\n",
       "      <td>6160.0</td>\n",
       "      <td>3812495.0</td>\n",
       "      <td>2700.0</td>\n",
       "      <td>198932.0</td>\n",
       "      <td>0.438312</td>\n",
       "      <td>0.052179</td>\n",
       "    </tr>\n",
       "  </tbody>\n",
       "</table>\n",
       "</div>"
      ],
      "text/plain": [
       "          N02650     A02650   N19700    A19700  PCT_DONORS  PCT_INCOME\n",
       "zipcode                                                               \n",
       "10001    14310.0  2402685.0   5230.0   34731.0    0.365479    0.014455\n",
       "10002    43190.0  2334694.0   6970.0   21115.0    0.161380    0.009044\n",
       "10003    30050.0  7562151.0  14180.0  134500.0    0.471880    0.017786\n",
       "10004     2490.0  1018420.0   1250.0   20318.0    0.502008    0.019951\n",
       "10005     6160.0  3812495.0   2700.0  198932.0    0.438312    0.052179"
      ]
     },
     "execution_count": 20,
     "metadata": {},
     "output_type": "execute_result"
    }
   ],
   "source": [
    "donor_sum[\"PCT_DONORS\"] = donor_sum[\"N19700\"] / donor_sum[\"N02650\"]\n",
    "donor_sum[\"PCT_INCOME\"] = donor_sum[\"A19700\"] / donor_sum[\"A02650\"]\n",
    "donor_sum.head()"
   ]
  },
  {
   "cell_type": "code",
   "execution_count": 24,
   "metadata": {},
   "outputs": [
    {
     "data": {
      "text/plain": [
       "count    131.000000\n",
       "mean       0.279006\n",
       "std        0.137800\n",
       "min        0.074074\n",
       "25%        0.168701\n",
       "50%        0.233610\n",
       "75%        0.381573\n",
       "max        0.603604\n",
       "Name: PCT_DONORS, dtype: float64"
      ]
     },
     "execution_count": 24,
     "metadata": {},
     "output_type": "execute_result"
    }
   ],
   "source": [
    "donor_sum[\"PCT_DONORS\"].describe()"
   ]
  },
  {
   "cell_type": "code",
   "execution_count": 41,
   "metadata": {},
   "outputs": [
    {
     "data": {
      "image/png": "[encoded data removed]",
      "text/plain": [
       "<Figure size 432x288 with 1 Axes>"
      ]
     },
     "metadata": {},
     "output_type": "display_data"
    }
   ],
   "source": [
    "plt.hist(donor_sum[\"PCT_DONORS\"], bins=20);"
   ]
  },
  {
   "cell_type": "code",
   "execution_count": 49,
   "metadata": {},
   "outputs": [
    {
     "data": {
      "text/plain": [
       "33"
      ]
     },
     "execution_count": 49,
     "metadata": {},
     "output_type": "execute_result"
    }
   ],
   "source": [
    "#Select zip codes where 38.2%+ individuals donate to charity (75th percentile)\n",
    "donor_target_zips = donor_sum.loc[donor_sum[\"PCT_DONORS\"] > 0.381573]\n",
    "donor_target_zips.shape[0]"
   ]
  },
  {
   "cell_type": "code",
   "execution_count": 50,
   "metadata": {},
   "outputs": [
    {
     "data": {
      "text/html": [
       "<div>\n",
       "<style scoped>\n",
       "    .dataframe tbody tr th:only-of-type {\n",
       "        vertical-align: middle;\n",
       "    }\n",
       "\n",
       "    .dataframe tbody tr th {\n",
       "        vertical-align: top;\n",
       "    }\n",
       "\n",
       "    .dataframe thead th {\n",
       "        text-align: right;\n",
       "    }\n",
       "</style>\n",
       "<table border=\"1\" class=\"dataframe\">\n",
       "  <thead>\n",
       "    <tr style=\"text-align: right;\">\n",
       "      <th></th>\n",
       "      <th>PCT_DONORS</th>\n",
       "    </tr>\n",
       "    <tr>\n",
       "      <th>zipcode</th>\n",
       "      <th></th>\n",
       "    </tr>\n",
       "  </thead>\n",
       "  <tbody>\n",
       "    <tr>\n",
       "      <th>10003</th>\n",
       "      <td>0.471880</td>\n",
       "    </tr>\n",
       "    <tr>\n",
       "      <th>10004</th>\n",
       "      <td>0.502008</td>\n",
       "    </tr>\n",
       "    <tr>\n",
       "      <th>10005</th>\n",
       "      <td>0.438312</td>\n",
       "    </tr>\n",
       "    <tr>\n",
       "      <th>10006</th>\n",
       "      <td>0.411523</td>\n",
       "    </tr>\n",
       "    <tr>\n",
       "      <th>10007</th>\n",
       "      <td>0.603604</td>\n",
       "    </tr>\n",
       "  </tbody>\n",
       "</table>\n",
       "</div>"
      ],
      "text/plain": [
       "         PCT_DONORS\n",
       "zipcode            \n",
       "10003      0.471880\n",
       "10004      0.502008\n",
       "10005      0.438312\n",
       "10006      0.411523\n",
       "10007      0.603604"
      ]
     },
     "execution_count": 50,
     "metadata": {},
     "output_type": "execute_result"
    }
   ],
   "source": [
    "#Remove unnecessary columns for target file \n",
    "donor_target_zips = donor_target_zips.drop([\"N02650\", \"A02650\", \"N19700\", \"A19700\", \"PCT_INCOME\"], axis=1, errors=\"ignore\")\n",
    "donor_target_zips.head()"
   ]
  },
  {
   "cell_type": "code",
   "execution_count": 53,
   "metadata": {},
   "outputs": [],
   "source": [
    "#Create file for use with final target selection\n",
    "with open('donor_target_zips.pickle', 'wb') as to_write:\n",
    "    pickle.dump(donor_target_zips, to_write)"
   ]
  },
  {
   "cell_type": "code",
   "execution_count": 55,
   "metadata": {},
   "outputs": [],
   "source": [
    "#Output donor data for heatmap\n",
    "donor_map = donor_sum.drop([\"N02650\", \"A02650\", \"N19700\", \"A19700\", \"PCT_INCOME\"], axis=1, errors=\"ignore\")\n",
    "donor_map.to_csv(r\"C:\\Users\\jphos\\Documents\\Metis\\donor_data_map.csv\", sep=',', encoding='utf-8')"
   ]
  }
 ],
 "metadata": {
  "kernelspec": {
   "display_name": "Python 3",
   "language": "python",
   "name": "python3"
  },
  "language_info": {
   "codemirror_mode": {
    "name": "ipython",
    "version": 3
   },
   "file_extension": ".py",
   "mimetype": "text/x-python",
   "name": "python",
   "nbconvert_exporter": "python",
   "pygments_lexer": "ipython3",
   "version": "3.6.5"
  }
 },
 "nbformat": 4,
 "nbformat_minor": 2
}
