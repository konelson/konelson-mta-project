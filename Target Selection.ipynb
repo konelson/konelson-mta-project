{
 "cells": [
  {
   "cell_type": "code",
   "execution_count": 61,
   "metadata": {},
   "outputs": [],
   "source": [
    "import matplotlib.pyplot as plt\n",
    "import numpy as np\n",
    "import pandas as pd\n",
    "import pickle"
   ]
  },
  {
   "cell_type": "code",
   "execution_count": 3,
   "metadata": {},
   "outputs": [
    {
     "ename": "FileNotFoundError",
     "evalue": "[Errno 2] No such file or directory: 'donor_target_zips.pickle'",
     "output_type": "error",
     "traceback": [
      "\u001b[0;31m---------------------------------------------------------------------------\u001b[0m",
      "\u001b[0;31mFileNotFoundError\u001b[0m                         Traceback (most recent call last)",
      "\u001b[0;32m<ipython-input-3-f5a7ac2db86e>\u001b[0m in \u001b[0;36m<module>\u001b[0;34m()\u001b[0m\n\u001b[1;32m      1\u001b[0m \u001b[0;31m#Import donor target zip codes\u001b[0m\u001b[0;34m\u001b[0m\u001b[0;34m\u001b[0m\u001b[0m\n\u001b[0;32m----> 2\u001b[0;31m \u001b[0;32mwith\u001b[0m \u001b[0mopen\u001b[0m\u001b[0;34m(\u001b[0m\u001b[0;34m'donor_target_zips.pickle'\u001b[0m\u001b[0;34m,\u001b[0m\u001b[0;34m'rb'\u001b[0m\u001b[0;34m)\u001b[0m \u001b[0;32mas\u001b[0m \u001b[0mread_file\u001b[0m\u001b[0;34m:\u001b[0m\u001b[0;34m\u001b[0m\u001b[0m\n\u001b[0m\u001b[1;32m      3\u001b[0m     \u001b[0mnew_donor_target\u001b[0m \u001b[0;34m=\u001b[0m \u001b[0mpickle\u001b[0m\u001b[0;34m.\u001b[0m\u001b[0mload\u001b[0m\u001b[0;34m(\u001b[0m\u001b[0mread_file\u001b[0m\u001b[0;34m)\u001b[0m\u001b[0;34m\u001b[0m\u001b[0m\n\u001b[1;32m      4\u001b[0m \u001b[0mnew_donor_target\u001b[0m\u001b[0;34m.\u001b[0m\u001b[0mhead\u001b[0m\u001b[0;34m(\u001b[0m\u001b[0;34m)\u001b[0m\u001b[0;34m\u001b[0m\u001b[0m\n",
      "\u001b[0;31mFileNotFoundError\u001b[0m: [Errno 2] No such file or directory: 'donor_target_zips.pickle'"
     ]
    }
   ],
   "source": [
    "#Import donor target zip codes\n",
    "with open('donor_target_zips.pickle','rb') as read_file:\n",
    "    new_donor_target = pickle.load(read_file)\n",
    "new_donor_target.head()"
   ]
  },
  {
   "cell_type": "code",
   "execution_count": 3,
   "metadata": {},
   "outputs": [
    {
     "ename": "NameError",
     "evalue": "name 'new_donor_target' is not defined",
     "output_type": "error",
     "traceback": [
      "\u001b[0;31m---------------------------------------------------------------------------\u001b[0m",
      "\u001b[0;31mNameError\u001b[0m                                 Traceback (most recent call last)",
      "\u001b[0;32m<ipython-input-3-0f0d1535fcbf>\u001b[0m in \u001b[0;36m<module>\u001b[0;34m()\u001b[0m\n\u001b[1;32m      1\u001b[0m \u001b[0;31m#Check number of zip codes in donor target\u001b[0m\u001b[0;34m\u001b[0m\u001b[0;34m\u001b[0m\u001b[0m\n\u001b[0;32m----> 2\u001b[0;31m \u001b[0mnew_donor_target\u001b[0m\u001b[0;34m.\u001b[0m\u001b[0mshape\u001b[0m\u001b[0;34m[\u001b[0m\u001b[0;36m0\u001b[0m\u001b[0;34m]\u001b[0m\u001b[0;34m\u001b[0m\u001b[0m\n\u001b[0m",
      "\u001b[0;31mNameError\u001b[0m: name 'new_donor_target' is not defined"
     ]
    }
   ],
   "source": [
    "#Check number of zip codes in donor target\n",
    "new_donor_target.shape[0]"
   ]
  },
  {
   "cell_type": "code",
   "execution_count": 9,
   "metadata": {},
   "outputs": [
    {
     "data": {
      "text/html": [
       "<div>\n",
       "<style scoped>\n",
       "    .dataframe tbody tr th:only-of-type {\n",
       "        vertical-align: middle;\n",
       "    }\n",
       "\n",
       "    .dataframe tbody tr th {\n",
       "        vertical-align: top;\n",
       "    }\n",
       "\n",
       "    .dataframe thead th {\n",
       "        text-align: right;\n",
       "    }\n",
       "</style>\n",
       "<table border=\"1\" class=\"dataframe\">\n",
       "  <thead>\n",
       "    <tr style=\"text-align: right;\">\n",
       "      <th></th>\n",
       "      <th>Company</th>\n",
       "    </tr>\n",
       "    <tr>\n",
       "      <th>zipcode</th>\n",
       "      <th></th>\n",
       "    </tr>\n",
       "  </thead>\n",
       "  <tbody>\n",
       "    <tr>\n",
       "      <th>10001</th>\n",
       "      <td>6</td>\n",
       "    </tr>\n",
       "    <tr>\n",
       "      <th>10003</th>\n",
       "      <td>8</td>\n",
       "    </tr>\n",
       "    <tr>\n",
       "      <th>10010</th>\n",
       "      <td>16</td>\n",
       "    </tr>\n",
       "    <tr>\n",
       "      <th>10011</th>\n",
       "      <td>5</td>\n",
       "    </tr>\n",
       "    <tr>\n",
       "      <th>10012</th>\n",
       "      <td>10</td>\n",
       "    </tr>\n",
       "  </tbody>\n",
       "</table>\n",
       "</div>"
      ],
      "text/plain": [
       "         Company\n",
       "zipcode         \n",
       "10001          6\n",
       "10003          8\n",
       "10010         16\n",
       "10011          5\n",
       "10012         10"
      ]
     },
     "execution_count": 9,
     "metadata": {},
     "output_type": "execute_result"
    }
   ],
   "source": [
    "#Import technology company zip codes\n",
    "with open('tech_company_zips.pickle','rb') as read_file:\n",
    "    new_tech_target = pickle.load(read_file)\n",
    "new_tech_target.head()"
   ]
  },
  {
   "cell_type": "code",
   "execution_count": 10,
   "metadata": {},
   "outputs": [
    {
     "data": {
      "text/plain": [
       "8"
      ]
     },
     "execution_count": 10,
     "metadata": {},
     "output_type": "execute_result"
    }
   ],
   "source": [
    "#Check number of zip codes in tech target\n",
    "new_tech_target.shape[0]"
   ]
  },
  {
   "cell_type": "code",
   "execution_count": 12,
   "metadata": {},
   "outputs": [],
   "source": [
    "target_zip = pd.DataFrame.merge(new_donor_target,new_tech_target,on=\"zipcode\")"
   ]
  },
  {
   "cell_type": "code",
   "execution_count": 13,
   "metadata": {},
   "outputs": [
    {
     "data": {
      "text/plain": [
       "6"
      ]
     },
     "execution_count": 13,
     "metadata": {},
     "output_type": "execute_result"
    }
   ],
   "source": [
    "#Check number of zip codes in target file\n",
    "target_zip.shape[0]"
   ]
  },
  {
   "cell_type": "code",
   "execution_count": 14,
   "metadata": {},
   "outputs": [
    {
     "data": {
      "text/html": [
       "<div>\n",
       "<style scoped>\n",
       "    .dataframe tbody tr th:only-of-type {\n",
       "        vertical-align: middle;\n",
       "    }\n",
       "\n",
       "    .dataframe tbody tr th {\n",
       "        vertical-align: top;\n",
       "    }\n",
       "\n",
       "    .dataframe thead th {\n",
       "        text-align: right;\n",
       "    }\n",
       "</style>\n",
       "<table border=\"1\" class=\"dataframe\">\n",
       "  <thead>\n",
       "    <tr style=\"text-align: right;\">\n",
       "      <th></th>\n",
       "      <th>PCT_DONORS</th>\n",
       "      <th>Company</th>\n",
       "    </tr>\n",
       "    <tr>\n",
       "      <th>zipcode</th>\n",
       "      <th></th>\n",
       "      <th></th>\n",
       "    </tr>\n",
       "  </thead>\n",
       "  <tbody>\n",
       "    <tr>\n",
       "      <th>10003</th>\n",
       "      <td>0.471880</td>\n",
       "      <td>8</td>\n",
       "    </tr>\n",
       "    <tr>\n",
       "      <th>10010</th>\n",
       "      <td>0.490275</td>\n",
       "      <td>16</td>\n",
       "    </tr>\n",
       "    <tr>\n",
       "      <th>10011</th>\n",
       "      <td>0.526733</td>\n",
       "      <td>5</td>\n",
       "    </tr>\n",
       "    <tr>\n",
       "      <th>10012</th>\n",
       "      <td>0.411353</td>\n",
       "      <td>10</td>\n",
       "    </tr>\n",
       "    <tr>\n",
       "      <th>10013</th>\n",
       "      <td>0.387674</td>\n",
       "      <td>7</td>\n",
       "    </tr>\n",
       "    <tr>\n",
       "      <th>10014</th>\n",
       "      <td>0.515960</td>\n",
       "      <td>5</td>\n",
       "    </tr>\n",
       "  </tbody>\n",
       "</table>\n",
       "</div>"
      ],
      "text/plain": [
       "         PCT_DONORS  Company\n",
       "zipcode                     \n",
       "10003      0.471880        8\n",
       "10010      0.490275       16\n",
       "10011      0.526733        5\n",
       "10012      0.411353       10\n",
       "10013      0.387674        7\n",
       "10014      0.515960        5"
      ]
     },
     "execution_count": 14,
     "metadata": {},
     "output_type": "execute_result"
    }
   ],
   "source": [
    "#These top six zip codes are our target data set based on combined donor and tech hub data\n",
    "\n",
    "target_zip"
   ]
  },
  {
   "cell_type": "code",
   "execution_count": 4,
   "metadata": {},
   "outputs": [
    {
     "data": {
      "text/html": [
       "<div>\n",
       "<style scoped>\n",
       "    .dataframe tbody tr th:only-of-type {\n",
       "        vertical-align: middle;\n",
       "    }\n",
       "\n",
       "    .dataframe tbody tr th {\n",
       "        vertical-align: top;\n",
       "    }\n",
       "\n",
       "    .dataframe thead th {\n",
       "        text-align: right;\n",
       "    }\n",
       "</style>\n",
       "<table border=\"1\" class=\"dataframe\">\n",
       "  <thead>\n",
       "    <tr style=\"text-align: right;\">\n",
       "      <th></th>\n",
       "      <th>unit</th>\n",
       "      <th>station</th>\n",
       "      <th>date_stamp</th>\n",
       "      <th>time_stamp</th>\n",
       "      <th>zip</th>\n",
       "      <th>incremental_ppl</th>\n",
       "    </tr>\n",
       "  </thead>\n",
       "  <tbody>\n",
       "    <tr>\n",
       "      <th>0</th>\n",
       "      <td>R051</td>\n",
       "      <td>59 ST</td>\n",
       "      <td>2018-04-02</td>\n",
       "      <td>08:00:00</td>\n",
       "      <td>10022</td>\n",
       "      <td>25</td>\n",
       "    </tr>\n",
       "    <tr>\n",
       "      <th>1</th>\n",
       "      <td>R051</td>\n",
       "      <td>59 ST</td>\n",
       "      <td>2018-04-02</td>\n",
       "      <td>12:00:00</td>\n",
       "      <td>10022</td>\n",
       "      <td>134</td>\n",
       "    </tr>\n",
       "    <tr>\n",
       "      <th>2</th>\n",
       "      <td>R051</td>\n",
       "      <td>59 ST</td>\n",
       "      <td>2018-04-02</td>\n",
       "      <td>16:00:00</td>\n",
       "      <td>10022</td>\n",
       "      <td>210</td>\n",
       "    </tr>\n",
       "    <tr>\n",
       "      <th>3</th>\n",
       "      <td>R051</td>\n",
       "      <td>59 ST</td>\n",
       "      <td>2018-04-02</td>\n",
       "      <td>20:00:00</td>\n",
       "      <td>10022</td>\n",
       "      <td>630</td>\n",
       "    </tr>\n",
       "    <tr>\n",
       "      <th>4</th>\n",
       "      <td>R051</td>\n",
       "      <td>59 ST</td>\n",
       "      <td>2018-04-02</td>\n",
       "      <td>00:00:00</td>\n",
       "      <td>10022</td>\n",
       "      <td>161</td>\n",
       "    </tr>\n",
       "  </tbody>\n",
       "</table>\n",
       "</div>"
      ],
      "text/plain": [
       "   unit station  date_stamp time_stamp    zip  incremental_ppl\n",
       "0  R051   59 ST  2018-04-02   08:00:00  10022               25\n",
       "1  R051   59 ST  2018-04-02   12:00:00  10022              134\n",
       "2  R051   59 ST  2018-04-02   16:00:00  10022              210\n",
       "3  R051   59 ST  2018-04-02   20:00:00  10022              630\n",
       "4  R051   59 ST  2018-04-02   00:00:00  10022              161"
      ]
     },
     "execution_count": 4,
     "metadata": {},
     "output_type": "execute_result"
    }
   ],
   "source": [
    "#Read in formatted MTA Data\n",
    "\n",
    "pd.read_csv('/Users/kelly/metis_v3/konelson-mta-project/mta_data_with_zip_codes.csv').head()"
   ]
  },
  {
   "cell_type": "code",
   "execution_count": 5,
   "metadata": {},
   "outputs": [],
   "source": [
    "unit_by_zip = pd.read_csv('/Users/kelly/metis_v3/konelson-mta-project/mta_data_with_zip_codes.csv')"
   ]
  },
  {
   "cell_type": "code",
   "execution_count": 6,
   "metadata": {},
   "outputs": [
    {
     "data": {
      "text/html": [
       "<div>\n",
       "<style scoped>\n",
       "    .dataframe tbody tr th:only-of-type {\n",
       "        vertical-align: middle;\n",
       "    }\n",
       "\n",
       "    .dataframe tbody tr th {\n",
       "        vertical-align: top;\n",
       "    }\n",
       "\n",
       "    .dataframe thead th {\n",
       "        text-align: right;\n",
       "    }\n",
       "</style>\n",
       "<table border=\"1\" class=\"dataframe\">\n",
       "  <thead>\n",
       "    <tr style=\"text-align: right;\">\n",
       "      <th></th>\n",
       "      <th></th>\n",
       "      <th></th>\n",
       "      <th>incremental_ppl</th>\n",
       "    </tr>\n",
       "    <tr>\n",
       "      <th>zip</th>\n",
       "      <th>unit</th>\n",
       "      <th>station</th>\n",
       "      <th></th>\n",
       "    </tr>\n",
       "  </thead>\n",
       "  <tbody>\n",
       "    <tr>\n",
       "      <th>7029</th>\n",
       "      <th>R544</th>\n",
       "      <th>HARRISON</th>\n",
       "      <td>197618</td>\n",
       "    </tr>\n",
       "    <tr>\n",
       "      <th rowspan=\"2\" valign=\"top\">7302</th>\n",
       "      <th>R543</th>\n",
       "      <th>EXCHANGE PLACE</th>\n",
       "      <td>385659</td>\n",
       "    </tr>\n",
       "    <tr>\n",
       "      <th>R551</th>\n",
       "      <th>GROVE STREET</th>\n",
       "      <td>483636</td>\n",
       "    </tr>\n",
       "    <tr>\n",
       "      <th>7305</th>\n",
       "      <th>R552</th>\n",
       "      <th>JOURNAL SQUARE</th>\n",
       "      <td>631626</td>\n",
       "    </tr>\n",
       "    <tr>\n",
       "      <th>10001</th>\n",
       "      <th>R031</th>\n",
       "      <th>34 ST-PENN STA</th>\n",
       "      <td>780098</td>\n",
       "    </tr>\n",
       "  </tbody>\n",
       "</table>\n",
       "</div>"
      ],
      "text/plain": [
       "                           incremental_ppl\n",
       "zip   unit station                        \n",
       "7029  R544 HARRISON                 197618\n",
       "7302  R543 EXCHANGE PLACE           385659\n",
       "      R551 GROVE STREET             483636\n",
       "7305  R552 JOURNAL SQUARE           631626\n",
       "10001 R031 34 ST-PENN STA           780098"
      ]
     },
     "execution_count": 6,
     "metadata": {},
     "output_type": "execute_result"
    }
   ],
   "source": [
    "#Check zip code mappings by unit for each subway station\n",
    "\n",
    "unit_by_zip.groupby(by = ['zip', 'unit', 'station'])[['incremental_ppl']].sum().head()"
   ]
  },
  {
   "cell_type": "code",
   "execution_count": 7,
   "metadata": {},
   "outputs": [],
   "source": [
    "#Filter for target donor & tech hub population\n",
    "\n",
    "zipmask = (unit_by_zip.zip == 10003) | (unit_by_zip.zip == 10010) |(unit_by_zip.zip == 10011) | (unit_by_zip.zip == 10012) | (unit_by_zip.zip == 10013) | (unit_by_zip.zip == 10014)"
   ]
  },
  {
   "cell_type": "code",
   "execution_count": 8,
   "metadata": {},
   "outputs": [
    {
     "data": {
      "text/plain": [
       "10011    21159\n",
       "10013    12547\n",
       "10003     7510\n",
       "10014     6673\n",
       "10010     5052\n",
       "10012     3838\n",
       "Name: zip, dtype: int64"
      ]
     },
     "execution_count": 8,
     "metadata": {},
     "output_type": "execute_result"
    }
   ],
   "source": [
    "unit_by_zip[zipmask].zip.value_counts()"
   ]
  },
  {
   "cell_type": "code",
   "execution_count": 9,
   "metadata": {},
   "outputs": [
    {
     "data": {
      "text/html": [
       "<div>\n",
       "<style scoped>\n",
       "    .dataframe tbody tr th:only-of-type {\n",
       "        vertical-align: middle;\n",
       "    }\n",
       "\n",
       "    .dataframe tbody tr th {\n",
       "        vertical-align: top;\n",
       "    }\n",
       "\n",
       "    .dataframe thead th {\n",
       "        text-align: right;\n",
       "    }\n",
       "</style>\n",
       "<table border=\"1\" class=\"dataframe\">\n",
       "  <thead>\n",
       "    <tr style=\"text-align: right;\">\n",
       "      <th></th>\n",
       "      <th></th>\n",
       "      <th></th>\n",
       "      <th>incremental_ppl</th>\n",
       "    </tr>\n",
       "    <tr>\n",
       "      <th>zip</th>\n",
       "      <th>unit</th>\n",
       "      <th>station</th>\n",
       "      <th></th>\n",
       "    </tr>\n",
       "  </thead>\n",
       "  <tbody>\n",
       "    <tr>\n",
       "      <th>10003</th>\n",
       "      <th>R170</th>\n",
       "      <th>14 ST-UNION SQ</th>\n",
       "      <td>2278722</td>\n",
       "    </tr>\n",
       "    <tr>\n",
       "      <th>10011</th>\n",
       "      <th>R012</th>\n",
       "      <th>34 ST-PENN STA</th>\n",
       "      <td>1482310</td>\n",
       "    </tr>\n",
       "    <tr>\n",
       "      <th>10014</th>\n",
       "      <th>R138</th>\n",
       "      <th>W 4 ST-WASH SQ</th>\n",
       "      <td>893649</td>\n",
       "    </tr>\n",
       "    <tr>\n",
       "      <th>10010</th>\n",
       "      <th>R083</th>\n",
       "      <th>23 ST</th>\n",
       "      <td>600107</td>\n",
       "    </tr>\n",
       "    <tr>\n",
       "      <th>10011</th>\n",
       "      <th>R111</th>\n",
       "      <th>23 ST</th>\n",
       "      <td>573221</td>\n",
       "    </tr>\n",
       "    <tr>\n",
       "      <th>10010</th>\n",
       "      <th>R131</th>\n",
       "      <th>23 ST</th>\n",
       "      <td>555348</td>\n",
       "    </tr>\n",
       "    <tr>\n",
       "      <th>10011</th>\n",
       "      <th>R175</th>\n",
       "      <th>8 AV</th>\n",
       "      <td>529497</td>\n",
       "    </tr>\n",
       "    <tr>\n",
       "      <th>10013</th>\n",
       "      <th>R463</th>\n",
       "      <th>CANAL ST</th>\n",
       "      <td>490828</td>\n",
       "    </tr>\n",
       "    <tr>\n",
       "      <th rowspan=\"2\" valign=\"top\">10011</th>\n",
       "      <th>R013</th>\n",
       "      <th>34 ST-PENN STA</th>\n",
       "      <td>490308</td>\n",
       "    </tr>\n",
       "    <tr>\n",
       "      <th>R105</th>\n",
       "      <th>14 ST</th>\n",
       "      <td>476854</td>\n",
       "    </tr>\n",
       "    <tr>\n",
       "      <th rowspan=\"2\" valign=\"top\">10013</th>\n",
       "      <th>R088</th>\n",
       "      <th>CORTLANDT ST</th>\n",
       "      <td>467051</td>\n",
       "    </tr>\n",
       "    <tr>\n",
       "      <th>R044</th>\n",
       "      <th>BROOKLYN BRIDGE</th>\n",
       "      <td>434696</td>\n",
       "    </tr>\n",
       "    <tr>\n",
       "      <th>10003</th>\n",
       "      <th>R085</th>\n",
       "      <th>8 ST-NYU</th>\n",
       "      <td>431987</td>\n",
       "    </tr>\n",
       "    <tr>\n",
       "      <th rowspan=\"2\" valign=\"top\">10011</th>\n",
       "      <th>R175</th>\n",
       "      <th>14 ST</th>\n",
       "      <td>421327</td>\n",
       "    </tr>\n",
       "    <tr>\n",
       "      <th>R163</th>\n",
       "      <th>14 ST</th>\n",
       "      <td>409070</td>\n",
       "    </tr>\n",
       "    <tr>\n",
       "      <th rowspan=\"2\" valign=\"top\">10012</th>\n",
       "      <th>R086</th>\n",
       "      <th>PRINCE ST</th>\n",
       "      <td>393427</td>\n",
       "    </tr>\n",
       "    <tr>\n",
       "      <th>R194</th>\n",
       "      <th>BLEECKER ST</th>\n",
       "      <td>375615</td>\n",
       "    </tr>\n",
       "    <tr>\n",
       "      <th>10010</th>\n",
       "      <th>R203</th>\n",
       "      <th>23 ST</th>\n",
       "      <td>366835</td>\n",
       "    </tr>\n",
       "    <tr>\n",
       "      <th>10013</th>\n",
       "      <th>R462</th>\n",
       "      <th>CANAL ST</th>\n",
       "      <td>363976</td>\n",
       "    </tr>\n",
       "    <tr>\n",
       "      <th>10014</th>\n",
       "      <th>R290</th>\n",
       "      <th>HOUSTON ST</th>\n",
       "      <td>330413</td>\n",
       "    </tr>\n",
       "    <tr>\n",
       "      <th>10011</th>\n",
       "      <th>R190</th>\n",
       "      <th>23 ST</th>\n",
       "      <td>328638</td>\n",
       "    </tr>\n",
       "    <tr>\n",
       "      <th>10013</th>\n",
       "      <th>R282</th>\n",
       "      <th>SPRING ST</th>\n",
       "      <td>288734</td>\n",
       "    </tr>\n",
       "    <tr>\n",
       "      <th>10012</th>\n",
       "      <th>R322</th>\n",
       "      <th>SPRING ST</th>\n",
       "      <td>286910</td>\n",
       "    </tr>\n",
       "    <tr>\n",
       "      <th>10014</th>\n",
       "      <th>R189</th>\n",
       "      <th>CHRISTOPHER ST</th>\n",
       "      <td>251856</td>\n",
       "    </tr>\n",
       "    <tr>\n",
       "      <th>10013</th>\n",
       "      <th>R044</th>\n",
       "      <th>CHAMBERS ST</th>\n",
       "      <td>247004</td>\n",
       "    </tr>\n",
       "    <tr>\n",
       "      <th rowspan=\"3\" valign=\"top\">10011</th>\n",
       "      <th>R321</th>\n",
       "      <th>18 ST</th>\n",
       "      <td>207549</td>\n",
       "    </tr>\n",
       "    <tr>\n",
       "      <th>R542</th>\n",
       "      <th>TWENTY THIRD ST</th>\n",
       "      <td>207202</td>\n",
       "    </tr>\n",
       "    <tr>\n",
       "      <th>R545</th>\n",
       "      <th>14TH STREET</th>\n",
       "      <td>198327</td>\n",
       "    </tr>\n",
       "    <tr>\n",
       "      <th>10013</th>\n",
       "      <th>R118</th>\n",
       "      <th>CANAL ST</th>\n",
       "      <td>183753</td>\n",
       "    </tr>\n",
       "    <tr>\n",
       "      <th>10003</th>\n",
       "      <th>R330</th>\n",
       "      <th>3 AV</th>\n",
       "      <td>179350</td>\n",
       "    </tr>\n",
       "    <tr>\n",
       "      <th rowspan=\"2\" valign=\"top\">10014</th>\n",
       "      <th>R320</th>\n",
       "      <th>CANAL ST</th>\n",
       "      <td>140068</td>\n",
       "    </tr>\n",
       "    <tr>\n",
       "      <th>R343</th>\n",
       "      <th>FRANKLIN ST</th>\n",
       "      <td>131711</td>\n",
       "    </tr>\n",
       "    <tr>\n",
       "      <th>10011</th>\n",
       "      <th>R163</th>\n",
       "      <th>6 AV</th>\n",
       "      <td>82230</td>\n",
       "    </tr>\n",
       "  </tbody>\n",
       "</table>\n",
       "</div>"
      ],
      "text/plain": [
       "                            incremental_ppl\n",
       "zip   unit station                         \n",
       "10003 R170 14 ST-UNION SQ           2278722\n",
       "10011 R012 34 ST-PENN STA           1482310\n",
       "10014 R138 W 4 ST-WASH SQ            893649\n",
       "10010 R083 23 ST                     600107\n",
       "10011 R111 23 ST                     573221\n",
       "10010 R131 23 ST                     555348\n",
       "10011 R175 8 AV                      529497\n",
       "10013 R463 CANAL ST                  490828\n",
       "10011 R013 34 ST-PENN STA            490308\n",
       "      R105 14 ST                     476854\n",
       "10013 R088 CORTLANDT ST              467051\n",
       "      R044 BROOKLYN BRIDGE           434696\n",
       "10003 R085 8 ST-NYU                  431987\n",
       "10011 R175 14 ST                     421327\n",
       "      R163 14 ST                     409070\n",
       "10012 R086 PRINCE ST                 393427\n",
       "      R194 BLEECKER ST               375615\n",
       "10010 R203 23 ST                     366835\n",
       "10013 R462 CANAL ST                  363976\n",
       "10014 R290 HOUSTON ST                330413\n",
       "10011 R190 23 ST                     328638\n",
       "10013 R282 SPRING ST                 288734\n",
       "10012 R322 SPRING ST                 286910\n",
       "10014 R189 CHRISTOPHER ST            251856\n",
       "10013 R044 CHAMBERS ST               247004\n",
       "10011 R321 18 ST                     207549\n",
       "      R542 TWENTY THIRD ST           207202\n",
       "      R545 14TH STREET               198327\n",
       "10013 R118 CANAL ST                  183753\n",
       "10003 R330 3 AV                      179350\n",
       "10014 R320 CANAL ST                  140068\n",
       "      R343 FRANKLIN ST               131711\n",
       "10011 R163 6 AV                       82230"
      ]
     },
     "execution_count": 9,
     "metadata": {},
     "output_type": "execute_result"
    }
   ],
   "source": [
    "#Sort filtered data in order of highest entries for the month of April 2018\n",
    "\n",
    "unit_by_zip[zipmask].groupby(by = ['zip', 'unit', 'station'])[['incremental_ppl']].sum().sort_values(by = 'incremental_ppl', ascending = False)"
   ]
  },
  {
   "cell_type": "code",
   "execution_count": 10,
   "metadata": {},
   "outputs": [],
   "source": [
    "#Check why Fulton Center and WTC were not included\n",
    "\n",
    "fultonmask = unit_by_zip.station == 'FULTON ST'"
   ]
  },
  {
   "cell_type": "code",
   "execution_count": 11,
   "metadata": {
    "scrolled": false
   },
   "outputs": [
    {
     "data": {
      "text/plain": [
       "10038    9759\n",
       "11217     696\n",
       "Name: zip, dtype: int64"
      ]
     },
     "execution_count": 11,
     "metadata": {},
     "output_type": "execute_result"
    }
   ],
   "source": [
    "unit_by_zip[fultonmask]['zip'].value_counts()"
   ]
  },
  {
   "cell_type": "code",
   "execution_count": 12,
   "metadata": {},
   "outputs": [],
   "source": [
    "#Donor percent for 10038 is 33.7%, two tech companies"
   ]
  },
  {
   "cell_type": "code",
   "execution_count": 13,
   "metadata": {},
   "outputs": [],
   "source": [
    "wtcmask = unit_by_zip.station == 'PATH NEW WTC'"
   ]
  },
  {
   "cell_type": "code",
   "execution_count": 14,
   "metadata": {},
   "outputs": [],
   "source": [
    "#Donor percent for 10005 is 43.8%, zero tech companies"
   ]
  },
  {
   "cell_type": "code",
   "execution_count": 15,
   "metadata": {},
   "outputs": [
    {
     "data": {
      "text/plain": [
       "10005    5457\n",
       "Name: zip, dtype: int64"
      ]
     },
     "execution_count": 15,
     "metadata": {},
     "output_type": "execute_result"
    }
   ],
   "source": [
    "unit_by_zip[wtcmask]['zip'].value_counts()"
   ]
  },
  {
   "cell_type": "code",
   "execution_count": 16,
   "metadata": {},
   "outputs": [],
   "source": [
    "total_by_station = unit_by_zip.groupby(by = ['station'], as_index = False)[['incremental_ppl']].sum()\n",
    "total_by_station.rename(columns = {'incremental_ppl': 'total_ppl'}, inplace = True)"
   ]
  },
  {
   "cell_type": "code",
   "execution_count": 17,
   "metadata": {},
   "outputs": [],
   "source": [
    "total_by_date = unit_by_zip.groupby(by = ['station', 'date_stamp'], as_index = False)[['incremental_ppl']].sum()\n",
    "total_by_date.rename(columns = {'incremental_ppl': 'total_ppl'}, inplace = True)\n",
    "total_by_date['weekday'] = pd.to_datetime(total_by_date['date_stamp']).dt.dayofweek"
   ]
  },
  {
   "cell_type": "code",
   "execution_count": 18,
   "metadata": {},
   "outputs": [],
   "source": [
    "time_of_day = unit_by_zip.groupby(by = ['station', 'time_stamp'], as_index = False)[['incremental_ppl']].sum()\n",
    "time_of_day.rename(columns = {'incremental_ppl': 'total_ppl'}, inplace = True)"
   ]
  },
  {
   "cell_type": "code",
   "execution_count": 19,
   "metadata": {},
   "outputs": [],
   "source": [
    "def station_by_day(station_name):\n",
    "    \n",
    "    station_name_mask = total_by_date.groupby(by = ['station', 'weekday']).sum().reset_index().station == station_name\n",
    "    \n",
    "    return total_by_date.groupby(by = ['station', 'weekday']).sum().reset_index()[station_name_mask] "
   ]
  },
  {
   "cell_type": "code",
   "execution_count": 20,
   "metadata": {},
   "outputs": [],
   "source": [
    "def station_time (station_name):\n",
    "\n",
    "    station_time_mask = time_of_day.station == station_name\n",
    "     \n",
    "    return time_of_day[station_time_mask]"
   ]
  },
  {
   "cell_type": "code",
   "execution_count": 21,
   "metadata": {},
   "outputs": [
    {
     "data": {
      "text/html": [
       "<div>\n",
       "<style scoped>\n",
       "    .dataframe tbody tr th:only-of-type {\n",
       "        vertical-align: middle;\n",
       "    }\n",
       "\n",
       "    .dataframe tbody tr th {\n",
       "        vertical-align: top;\n",
       "    }\n",
       "\n",
       "    .dataframe thead th {\n",
       "        text-align: right;\n",
       "    }\n",
       "</style>\n",
       "<table border=\"1\" class=\"dataframe\">\n",
       "  <thead>\n",
       "    <tr style=\"text-align: right;\">\n",
       "      <th></th>\n",
       "      <th>station</th>\n",
       "      <th>weekday</th>\n",
       "      <th>total_ppl</th>\n",
       "    </tr>\n",
       "  </thead>\n",
       "  <tbody>\n",
       "    <tr>\n",
       "      <th>98</th>\n",
       "      <td>14 ST-UNION SQ</td>\n",
       "      <td>0</td>\n",
       "      <td>341006</td>\n",
       "    </tr>\n",
       "    <tr>\n",
       "      <th>99</th>\n",
       "      <td>14 ST-UNION SQ</td>\n",
       "      <td>1</td>\n",
       "      <td>369152</td>\n",
       "    </tr>\n",
       "    <tr>\n",
       "      <th>100</th>\n",
       "      <td>14 ST-UNION SQ</td>\n",
       "      <td>2</td>\n",
       "      <td>377429</td>\n",
       "    </tr>\n",
       "    <tr>\n",
       "      <th>101</th>\n",
       "      <td>14 ST-UNION SQ</td>\n",
       "      <td>3</td>\n",
       "      <td>376485</td>\n",
       "    </tr>\n",
       "    <tr>\n",
       "      <th>102</th>\n",
       "      <td>14 ST-UNION SQ</td>\n",
       "      <td>4</td>\n",
       "      <td>376661</td>\n",
       "    </tr>\n",
       "    <tr>\n",
       "      <th>103</th>\n",
       "      <td>14 ST-UNION SQ</td>\n",
       "      <td>5</td>\n",
       "      <td>254828</td>\n",
       "    </tr>\n",
       "    <tr>\n",
       "      <th>104</th>\n",
       "      <td>14 ST-UNION SQ</td>\n",
       "      <td>6</td>\n",
       "      <td>183161</td>\n",
       "    </tr>\n",
       "  </tbody>\n",
       "</table>\n",
       "</div>"
      ],
      "text/plain": [
       "            station  weekday  total_ppl\n",
       "98   14 ST-UNION SQ        0     341006\n",
       "99   14 ST-UNION SQ        1     369152\n",
       "100  14 ST-UNION SQ        2     377429\n",
       "101  14 ST-UNION SQ        3     376485\n",
       "102  14 ST-UNION SQ        4     376661\n",
       "103  14 ST-UNION SQ        5     254828\n",
       "104  14 ST-UNION SQ        6     183161"
      ]
     },
     "execution_count": 21,
     "metadata": {},
     "output_type": "execute_result"
    }
   ],
   "source": [
    "station_by_day('14 ST-UNION SQ')"
   ]
  },
  {
   "cell_type": "code",
   "execution_count": 23,
   "metadata": {},
   "outputs": [
    {
     "data": {
      "image/png": "[encoded data removed]",
      "text/plain": [
       "<Figure size 432x288 with 1 Axes>"
      ]
     },
     "metadata": {},
     "output_type": "display_data"
    }
   ],
   "source": [
    "plt.plot(station_by_day('14 ST-UNION SQ').weekday,station_by_day('14 ST-UNION SQ').total_ppl)\n",
    "plt.title(\"Union Square turnstile Entries by Day\");\n",
    "\n",
    "labels = ['M','T','W','Th','F','Sa', 'Su']\n",
    "plt.xticks(np.arange(7), (labels));"
   ]
  },
  {
   "cell_type": "code",
   "execution_count": 24,
   "metadata": {},
   "outputs": [
    {
     "data": {
      "text/html": [
       "<div>\n",
       "<style scoped>\n",
       "    .dataframe tbody tr th:only-of-type {\n",
       "        vertical-align: middle;\n",
       "    }\n",
       "\n",
       "    .dataframe tbody tr th {\n",
       "        vertical-align: top;\n",
       "    }\n",
       "\n",
       "    .dataframe thead th {\n",
       "        text-align: right;\n",
       "    }\n",
       "</style>\n",
       "<table border=\"1\" class=\"dataframe\">\n",
       "  <thead>\n",
       "    <tr style=\"text-align: right;\">\n",
       "      <th></th>\n",
       "      <th>station</th>\n",
       "      <th>time_stamp</th>\n",
       "      <th>total_ppl</th>\n",
       "    </tr>\n",
       "  </thead>\n",
       "  <tbody>\n",
       "    <tr>\n",
       "      <th>112</th>\n",
       "      <td>14 ST-UNION SQ</td>\n",
       "      <td>05:00:00</td>\n",
       "      <td>39242</td>\n",
       "    </tr>\n",
       "    <tr>\n",
       "      <th>113</th>\n",
       "      <td>14 ST-UNION SQ</td>\n",
       "      <td>09:00:00</td>\n",
       "      <td>182502</td>\n",
       "    </tr>\n",
       "    <tr>\n",
       "      <th>114</th>\n",
       "      <td>14 ST-UNION SQ</td>\n",
       "      <td>13:00:00</td>\n",
       "      <td>354914</td>\n",
       "    </tr>\n",
       "    <tr>\n",
       "      <th>115</th>\n",
       "      <td>14 ST-UNION SQ</td>\n",
       "      <td>17:00:00</td>\n",
       "      <td>724099</td>\n",
       "    </tr>\n",
       "    <tr>\n",
       "      <th>116</th>\n",
       "      <td>14 ST-UNION SQ</td>\n",
       "      <td>21:00:00</td>\n",
       "      <td>977965</td>\n",
       "    </tr>\n",
       "  </tbody>\n",
       "</table>\n",
       "</div>"
      ],
      "text/plain": [
       "            station time_stamp  total_ppl\n",
       "112  14 ST-UNION SQ   05:00:00      39242\n",
       "113  14 ST-UNION SQ   09:00:00     182502\n",
       "114  14 ST-UNION SQ   13:00:00     354914\n",
       "115  14 ST-UNION SQ   17:00:00     724099\n",
       "116  14 ST-UNION SQ   21:00:00     977965"
      ]
     },
     "execution_count": 24,
     "metadata": {},
     "output_type": "execute_result"
    }
   ],
   "source": [
    "station_time ('14 ST-UNION SQ')"
   ]
  },
  {
   "cell_type": "code",
   "execution_count": 25,
   "metadata": {
    "scrolled": true
   },
   "outputs": [
    {
     "data": {
      "image/png": "[encoded data removed]",
      "text/plain": [
       "<Figure size 432x288 with 1 Axes>"
      ]
     },
     "metadata": {},
     "output_type": "display_data"
    }
   ],
   "source": [
    "plt.plot(station_time('14 ST-UNION SQ').time_stamp,station_time('14 ST-UNION SQ').total_ppl)\n",
    "plt.title(\"Union Square turnstile Entries by time of day\");"
   ]
  },
  {
   "cell_type": "code",
   "execution_count": 26,
   "metadata": {},
   "outputs": [],
   "source": [
    "weekday_mask = (total_by_date.groupby(by = ['station', 'weekday']).sum().reset_index().weekday == 0)|(total_by_date.groupby(by = ['station', 'weekday']).sum().reset_index().weekday == 1 )|(total_by_date.groupby(by = ['station', 'weekday']).sum().reset_index().weekday == 2 )|(total_by_date.groupby(by = ['station', 'weekday']).sum().reset_index().weekday == 3 )|(total_by_date.groupby(by = ['station', 'weekday']).sum().reset_index().weekday == 4 )\n",
    "weekdays = total_by_date.groupby(by = ['station', 'weekday']).sum().reset_index()[weekday_mask]"
   ]
  },
  {
   "cell_type": "code",
   "execution_count": 27,
   "metadata": {},
   "outputs": [],
   "source": [
    "def weekdays(station_name):\n",
    "    \n",
    "    weekday_mask = (total_by_date.groupby(by = ['station', 'weekday']).sum().reset_index().weekday == 0)|(total_by_date.groupby(by = ['station', 'weekday']).sum().reset_index().weekday == 1 )|(total_by_date.groupby(by = ['station', 'weekday']).sum().reset_index().weekday == 2 )|(total_by_date.groupby(by = ['station', 'weekday']).sum().reset_index().weekday == 3 )|(total_by_date.groupby(by = ['station', 'weekday']).sum().reset_index().weekday == 4 )\n",
    "    weekdays = total_by_date.groupby(by = ['station', 'weekday']).sum().reset_index()[weekday_mask]\n",
    "\n",
    "    station_name_mask = weekdays.station == station_name\n",
    "    \n",
    "    return weekdays[station_name_mask] "
   ]
  },
  {
   "cell_type": "code",
   "execution_count": 28,
   "metadata": {},
   "outputs": [
    {
     "data": {
      "text/html": [
       "<div>\n",
       "<style scoped>\n",
       "    .dataframe tbody tr th:only-of-type {\n",
       "        vertical-align: middle;\n",
       "    }\n",
       "\n",
       "    .dataframe tbody tr th {\n",
       "        vertical-align: top;\n",
       "    }\n",
       "\n",
       "    .dataframe thead th {\n",
       "        text-align: right;\n",
       "    }\n",
       "</style>\n",
       "<table border=\"1\" class=\"dataframe\">\n",
       "  <thead>\n",
       "    <tr style=\"text-align: right;\">\n",
       "      <th></th>\n",
       "      <th>station</th>\n",
       "      <th>weekday</th>\n",
       "      <th>total_ppl</th>\n",
       "    </tr>\n",
       "  </thead>\n",
       "  <tbody>\n",
       "    <tr>\n",
       "      <th>98</th>\n",
       "      <td>14 ST-UNION SQ</td>\n",
       "      <td>0</td>\n",
       "      <td>341006</td>\n",
       "    </tr>\n",
       "    <tr>\n",
       "      <th>99</th>\n",
       "      <td>14 ST-UNION SQ</td>\n",
       "      <td>1</td>\n",
       "      <td>369152</td>\n",
       "    </tr>\n",
       "    <tr>\n",
       "      <th>100</th>\n",
       "      <td>14 ST-UNION SQ</td>\n",
       "      <td>2</td>\n",
       "      <td>377429</td>\n",
       "    </tr>\n",
       "    <tr>\n",
       "      <th>101</th>\n",
       "      <td>14 ST-UNION SQ</td>\n",
       "      <td>3</td>\n",
       "      <td>376485</td>\n",
       "    </tr>\n",
       "    <tr>\n",
       "      <th>102</th>\n",
       "      <td>14 ST-UNION SQ</td>\n",
       "      <td>4</td>\n",
       "      <td>376661</td>\n",
       "    </tr>\n",
       "  </tbody>\n",
       "</table>\n",
       "</div>"
      ],
      "text/plain": [
       "            station  weekday  total_ppl\n",
       "98   14 ST-UNION SQ        0     341006\n",
       "99   14 ST-UNION SQ        1     369152\n",
       "100  14 ST-UNION SQ        2     377429\n",
       "101  14 ST-UNION SQ        3     376485\n",
       "102  14 ST-UNION SQ        4     376661"
      ]
     },
     "execution_count": 28,
     "metadata": {},
     "output_type": "execute_result"
    }
   ],
   "source": [
    "weekdays('14 ST-UNION SQ')"
   ]
  },
  {
   "cell_type": "code",
   "execution_count": 29,
   "metadata": {},
   "outputs": [
    {
     "data": {
      "image/png": "[encoded data removed]",
      "text/plain": [
       "<Figure size 432x288 with 1 Axes>"
      ]
     },
     "metadata": {},
     "output_type": "display_data"
    }
   ],
   "source": [
    "plt.plot(weekdays('14 ST-UNION SQ').weekday,weekdays('14 ST-UNION SQ').total_ppl)\n",
    "plt.title(\"Union Square turnstile Entries by Weekday\");\n",
    "\n",
    "labels = ['M','T','W','Th','F']\n",
    "plt.xticks(np.arange(5), (labels));"
   ]
  },
  {
   "cell_type": "code",
   "execution_count": 30,
   "metadata": {},
   "outputs": [],
   "source": [
    "weekly_time_of_day = unit_by_zip.groupby(by = ['station', 'date_stamp','time_stamp'], as_index = False)[['incremental_ppl']].sum()\n",
    "weekly_time_of_day.rename(columns = {'incremental_ppl': 'total_ppl'}, inplace = True)\n",
    "weekly_time_of_day['weekday'] = pd.to_datetime(total_by_date['date_stamp']).dt.dayofweek"
   ]
  },
  {
   "cell_type": "code",
   "execution_count": 31,
   "metadata": {},
   "outputs": [
    {
     "data": {
      "text/html": [
       "<div>\n",
       "<style scoped>\n",
       "    .dataframe tbody tr th:only-of-type {\n",
       "        vertical-align: middle;\n",
       "    }\n",
       "\n",
       "    .dataframe tbody tr th {\n",
       "        vertical-align: top;\n",
       "    }\n",
       "\n",
       "    .dataframe thead th {\n",
       "        text-align: right;\n",
       "    }\n",
       "</style>\n",
       "<table border=\"1\" class=\"dataframe\">\n",
       "  <thead>\n",
       "    <tr style=\"text-align: right;\">\n",
       "      <th></th>\n",
       "      <th>station</th>\n",
       "      <th>date_stamp</th>\n",
       "      <th>time_stamp</th>\n",
       "      <th>total_ppl</th>\n",
       "      <th>weekday</th>\n",
       "    </tr>\n",
       "  </thead>\n",
       "  <tbody>\n",
       "    <tr>\n",
       "      <th>0</th>\n",
       "      <td>1 AV</td>\n",
       "      <td>2018-03-31</td>\n",
       "      <td>00:00:00</td>\n",
       "      <td>3601</td>\n",
       "      <td>5.0</td>\n",
       "    </tr>\n",
       "    <tr>\n",
       "      <th>1</th>\n",
       "      <td>1 AV</td>\n",
       "      <td>2018-03-31</td>\n",
       "      <td>08:00:00</td>\n",
       "      <td>471</td>\n",
       "      <td>6.0</td>\n",
       "    </tr>\n",
       "    <tr>\n",
       "      <th>2</th>\n",
       "      <td>1 AV</td>\n",
       "      <td>2018-03-31</td>\n",
       "      <td>12:00:00</td>\n",
       "      <td>2509</td>\n",
       "      <td>0.0</td>\n",
       "    </tr>\n",
       "    <tr>\n",
       "      <th>3</th>\n",
       "      <td>1 AV</td>\n",
       "      <td>2018-03-31</td>\n",
       "      <td>16:00:00</td>\n",
       "      <td>4115</td>\n",
       "      <td>1.0</td>\n",
       "    </tr>\n",
       "    <tr>\n",
       "      <th>4</th>\n",
       "      <td>1 AV</td>\n",
       "      <td>2018-03-31</td>\n",
       "      <td>20:00:00</td>\n",
       "      <td>4491</td>\n",
       "      <td>2.0</td>\n",
       "    </tr>\n",
       "  </tbody>\n",
       "</table>\n",
       "</div>"
      ],
      "text/plain": [
       "  station  date_stamp time_stamp  total_ppl  weekday\n",
       "0    1 AV  2018-03-31   00:00:00       3601      5.0\n",
       "1    1 AV  2018-03-31   08:00:00        471      6.0\n",
       "2    1 AV  2018-03-31   12:00:00       2509      0.0\n",
       "3    1 AV  2018-03-31   16:00:00       4115      1.0\n",
       "4    1 AV  2018-03-31   20:00:00       4491      2.0"
      ]
     },
     "execution_count": 31,
     "metadata": {},
     "output_type": "execute_result"
    }
   ],
   "source": [
    "weekly_time_of_day.head()"
   ]
  },
  {
   "cell_type": "code",
   "execution_count": 32,
   "metadata": {},
   "outputs": [],
   "source": [
    "def weekday_time (station_name):\n",
    "\n",
    "    weekday_mask = (weekly_time_of_day.groupby(by = ['station', 'weekday']).sum().reset_index().weekday == 0)|(weekly_time_of_day.groupby(by = ['station', 'weekday']).sum().reset_index().weekday == 1 )|(weekly_time_of_day.groupby(by = ['station', 'weekday']).sum().reset_index().weekday == 2 )|(weekly_time_of_day.groupby(by = ['station', 'weekday']).sum().reset_index().weekday == 3 )|(weekly_time_of_day.groupby(by = ['station', 'weekday']).sum().reset_index().weekday == 4 )\n",
    "    weekdays = weekly_time_of_day.groupby(by = ['station', 'weekday']).sum().reset_index()[weekday_mask]\n",
    "    \n",
    "    station_time_mask = weekly_time_of_day.station == station_name\n",
    "     \n",
    "    return weekly_time_of_day[station_time_mask]"
   ]
  },
  {
   "cell_type": "code",
   "execution_count": 33,
   "metadata": {},
   "outputs": [
    {
     "data": {
      "text/html": [
       "<div>\n",
       "<style scoped>\n",
       "    .dataframe tbody tr th:only-of-type {\n",
       "        vertical-align: middle;\n",
       "    }\n",
       "\n",
       "    .dataframe tbody tr th {\n",
       "        vertical-align: top;\n",
       "    }\n",
       "\n",
       "    .dataframe thead th {\n",
       "        text-align: right;\n",
       "    }\n",
       "</style>\n",
       "<table border=\"1\" class=\"dataframe\">\n",
       "  <thead>\n",
       "    <tr style=\"text-align: right;\">\n",
       "      <th></th>\n",
       "      <th>station</th>\n",
       "      <th>date_stamp</th>\n",
       "      <th>time_stamp</th>\n",
       "      <th>total_ppl</th>\n",
       "      <th>weekday</th>\n",
       "    </tr>\n",
       "  </thead>\n",
       "  <tbody>\n",
       "    <tr>\n",
       "      <th>2518</th>\n",
       "      <td>14 ST-UNION SQ</td>\n",
       "      <td>2018-03-31</td>\n",
       "      <td>05:00:00</td>\n",
       "      <td>2171</td>\n",
       "      <td>4.0</td>\n",
       "    </tr>\n",
       "    <tr>\n",
       "      <th>2519</th>\n",
       "      <td>14 ST-UNION SQ</td>\n",
       "      <td>2018-03-31</td>\n",
       "      <td>09:00:00</td>\n",
       "      <td>1817</td>\n",
       "      <td>5.0</td>\n",
       "    </tr>\n",
       "    <tr>\n",
       "      <th>2520</th>\n",
       "      <td>14 ST-UNION SQ</td>\n",
       "      <td>2018-03-31</td>\n",
       "      <td>13:00:00</td>\n",
       "      <td>9351</td>\n",
       "      <td>6.0</td>\n",
       "    </tr>\n",
       "    <tr>\n",
       "      <th>2521</th>\n",
       "      <td>14 ST-UNION SQ</td>\n",
       "      <td>2018-03-31</td>\n",
       "      <td>17:00:00</td>\n",
       "      <td>21666</td>\n",
       "      <td>0.0</td>\n",
       "    </tr>\n",
       "    <tr>\n",
       "      <th>2522</th>\n",
       "      <td>14 ST-UNION SQ</td>\n",
       "      <td>2018-03-31</td>\n",
       "      <td>21:00:00</td>\n",
       "      <td>22169</td>\n",
       "      <td>1.0</td>\n",
       "    </tr>\n",
       "  </tbody>\n",
       "</table>\n",
       "</div>"
      ],
      "text/plain": [
       "             station  date_stamp time_stamp  total_ppl  weekday\n",
       "2518  14 ST-UNION SQ  2018-03-31   05:00:00       2171      4.0\n",
       "2519  14 ST-UNION SQ  2018-03-31   09:00:00       1817      5.0\n",
       "2520  14 ST-UNION SQ  2018-03-31   13:00:00       9351      6.0\n",
       "2521  14 ST-UNION SQ  2018-03-31   17:00:00      21666      0.0\n",
       "2522  14 ST-UNION SQ  2018-03-31   21:00:00      22169      1.0"
      ]
     },
     "execution_count": 33,
     "metadata": {},
     "output_type": "execute_result"
    }
   ],
   "source": [
    "weekday_time('14 ST-UNION SQ').head()"
   ]
  },
  {
   "cell_type": "code",
   "execution_count": 34,
   "metadata": {},
   "outputs": [
    {
     "data": {
      "text/plain": [
       "Text(0.5,1,'Daily Union Square turnstile entries (for Weekdays April 2018)')"
      ]
     },
     "execution_count": 34,
     "metadata": {},
     "output_type": "execute_result"
    },
    {
     "data": {
      "image/png": "[encoded data removed]",
      "text/plain": [
       "<Figure size 432x288 with 1 Axes>"
      ]
     },
     "metadata": {},
     "output_type": "display_data"
    }
   ],
   "source": [
    "plt.plot(weekday_time('14 ST-UNION SQ').time_stamp, weekday_time('14 ST-UNION SQ').total_ppl);\n",
    "plt.title ('Daily Union Square turnstile entries (for Weekdays April 2018)')"
   ]
  },
  {
   "cell_type": "code",
   "execution_count": 35,
   "metadata": {},
   "outputs": [
    {
     "data": {
      "image/png": "[encoded data removed]",
      "text/plain": [
       "<Figure size 720x288 with 2 Axes>"
      ]
     },
     "metadata": {},
     "output_type": "display_data"
    }
   ],
   "source": [
    "plt.figure(figsize=(10, 4)) \n",
    "\n",
    "plt.subplot(1, 2, 1)\n",
    "plt.plot(station_by_day('34 ST-PENN STA').weekday,station_by_day('34 ST-PENN STA').total_ppl)\n",
    "plt.title(\"Penn Station turnstile Entries by Day\");\n",
    "\n",
    "labels = ['M','T','W','Th','F','Sa', 'Su']\n",
    "plt.xticks(np.arange(7), (labels));\n",
    "\n",
    "plt.subplot(1, 2, 2)\n",
    "plt.plot(weekdays('34 ST-PENN STA').weekday,weekdays('34 ST-PENN STA').total_ppl)\n",
    "plt.title(\"Penn Station turnstile Entries by Weekday\");\n",
    "\n",
    "labels = ['M','T','W','Th','F']\n",
    "plt.xticks(np.arange(5), (labels));"
   ]
  },
  {
   "cell_type": "code",
   "execution_count": 36,
   "metadata": {},
   "outputs": [
    {
     "data": {
      "text/html": [
       "<div>\n",
       "<style scoped>\n",
       "    .dataframe tbody tr th:only-of-type {\n",
       "        vertical-align: middle;\n",
       "    }\n",
       "\n",
       "    .dataframe tbody tr th {\n",
       "        vertical-align: top;\n",
       "    }\n",
       "\n",
       "    .dataframe thead th {\n",
       "        text-align: right;\n",
       "    }\n",
       "</style>\n",
       "<table border=\"1\" class=\"dataframe\">\n",
       "  <thead>\n",
       "    <tr style=\"text-align: right;\">\n",
       "      <th></th>\n",
       "      <th>station</th>\n",
       "      <th>time_stamp</th>\n",
       "      <th>total_ppl</th>\n",
       "    </tr>\n",
       "  </thead>\n",
       "  <tbody>\n",
       "    <tr>\n",
       "      <th>1302</th>\n",
       "      <td>34 ST-PENN STA</td>\n",
       "      <td>00:00:00</td>\n",
       "      <td>314403</td>\n",
       "    </tr>\n",
       "    <tr>\n",
       "      <th>1303</th>\n",
       "      <td>34 ST-PENN STA</td>\n",
       "      <td>06:00:00</td>\n",
       "      <td>19194</td>\n",
       "    </tr>\n",
       "    <tr>\n",
       "      <th>1304</th>\n",
       "      <td>34 ST-PENN STA</td>\n",
       "      <td>08:00:00</td>\n",
       "      <td>355603</td>\n",
       "    </tr>\n",
       "    <tr>\n",
       "      <th>1305</th>\n",
       "      <td>34 ST-PENN STA</td>\n",
       "      <td>10:00:00</td>\n",
       "      <td>482524</td>\n",
       "    </tr>\n",
       "    <tr>\n",
       "      <th>1306</th>\n",
       "      <td>34 ST-PENN STA</td>\n",
       "      <td>12:00:00</td>\n",
       "      <td>782713</td>\n",
       "    </tr>\n",
       "    <tr>\n",
       "      <th>1307</th>\n",
       "      <td>34 ST-PENN STA</td>\n",
       "      <td>13:25:18</td>\n",
       "      <td>223</td>\n",
       "    </tr>\n",
       "    <tr>\n",
       "      <th>1308</th>\n",
       "      <td>34 ST-PENN STA</td>\n",
       "      <td>13:26:28</td>\n",
       "      <td>6</td>\n",
       "    </tr>\n",
       "    <tr>\n",
       "      <th>1309</th>\n",
       "      <td>34 ST-PENN STA</td>\n",
       "      <td>13:54:30</td>\n",
       "      <td>655</td>\n",
       "    </tr>\n",
       "    <tr>\n",
       "      <th>1310</th>\n",
       "      <td>34 ST-PENN STA</td>\n",
       "      <td>14:00:00</td>\n",
       "      <td>221562</td>\n",
       "    </tr>\n",
       "    <tr>\n",
       "      <th>1311</th>\n",
       "      <td>34 ST-PENN STA</td>\n",
       "      <td>16:00:00</td>\n",
       "      <td>487872</td>\n",
       "    </tr>\n",
       "    <tr>\n",
       "      <th>1312</th>\n",
       "      <td>34 ST-PENN STA</td>\n",
       "      <td>18:00:00</td>\n",
       "      <td>258885</td>\n",
       "    </tr>\n",
       "    <tr>\n",
       "      <th>1313</th>\n",
       "      <td>34 ST-PENN STA</td>\n",
       "      <td>20:00:00</td>\n",
       "      <td>811241</td>\n",
       "    </tr>\n",
       "    <tr>\n",
       "      <th>1314</th>\n",
       "      <td>34 ST-PENN STA</td>\n",
       "      <td>22:00:00</td>\n",
       "      <td>213856</td>\n",
       "    </tr>\n",
       "  </tbody>\n",
       "</table>\n",
       "</div>"
      ],
      "text/plain": [
       "             station time_stamp  total_ppl\n",
       "1302  34 ST-PENN STA   00:00:00     314403\n",
       "1303  34 ST-PENN STA   06:00:00      19194\n",
       "1304  34 ST-PENN STA   08:00:00     355603\n",
       "1305  34 ST-PENN STA   10:00:00     482524\n",
       "1306  34 ST-PENN STA   12:00:00     782713\n",
       "1307  34 ST-PENN STA   13:25:18        223\n",
       "1308  34 ST-PENN STA   13:26:28          6\n",
       "1309  34 ST-PENN STA   13:54:30        655\n",
       "1310  34 ST-PENN STA   14:00:00     221562\n",
       "1311  34 ST-PENN STA   16:00:00     487872\n",
       "1312  34 ST-PENN STA   18:00:00     258885\n",
       "1313  34 ST-PENN STA   20:00:00     811241\n",
       "1314  34 ST-PENN STA   22:00:00     213856"
      ]
     },
     "execution_count": 36,
     "metadata": {},
     "output_type": "execute_result"
    }
   ],
   "source": [
    "station_time('34 ST-PENN STA')"
   ]
  },
  {
   "cell_type": "code",
   "execution_count": 37,
   "metadata": {},
   "outputs": [
    {
     "data": {
      "text/html": [
       "<div>\n",
       "<style scoped>\n",
       "    .dataframe tbody tr th:only-of-type {\n",
       "        vertical-align: middle;\n",
       "    }\n",
       "\n",
       "    .dataframe tbody tr th {\n",
       "        vertical-align: top;\n",
       "    }\n",
       "\n",
       "    .dataframe thead th {\n",
       "        text-align: right;\n",
       "    }\n",
       "</style>\n",
       "<table border=\"1\" class=\"dataframe\">\n",
       "  <thead>\n",
       "    <tr style=\"text-align: right;\">\n",
       "      <th></th>\n",
       "      <th>station</th>\n",
       "      <th>time_stamp</th>\n",
       "      <th>total_ppl</th>\n",
       "    </tr>\n",
       "  </thead>\n",
       "  <tbody>\n",
       "    <tr>\n",
       "      <th>1302</th>\n",
       "      <td>34 ST-PENN STA</td>\n",
       "      <td>00:00:00</td>\n",
       "      <td>314403</td>\n",
       "    </tr>\n",
       "    <tr>\n",
       "      <th>1303</th>\n",
       "      <td>34 ST-PENN STA</td>\n",
       "      <td>06:00:00</td>\n",
       "      <td>19194</td>\n",
       "    </tr>\n",
       "    <tr>\n",
       "      <th>1304</th>\n",
       "      <td>34 ST-PENN STA</td>\n",
       "      <td>08:00:00</td>\n",
       "      <td>355603</td>\n",
       "    </tr>\n",
       "    <tr>\n",
       "      <th>1305</th>\n",
       "      <td>34 ST-PENN STA</td>\n",
       "      <td>10:00:00</td>\n",
       "      <td>482524</td>\n",
       "    </tr>\n",
       "    <tr>\n",
       "      <th>1306</th>\n",
       "      <td>34 ST-PENN STA</td>\n",
       "      <td>12:00:00</td>\n",
       "      <td>782713</td>\n",
       "    </tr>\n",
       "    <tr>\n",
       "      <th>1310</th>\n",
       "      <td>34 ST-PENN STA</td>\n",
       "      <td>14:00:00</td>\n",
       "      <td>221562</td>\n",
       "    </tr>\n",
       "    <tr>\n",
       "      <th>1311</th>\n",
       "      <td>34 ST-PENN STA</td>\n",
       "      <td>16:00:00</td>\n",
       "      <td>487872</td>\n",
       "    </tr>\n",
       "    <tr>\n",
       "      <th>1312</th>\n",
       "      <td>34 ST-PENN STA</td>\n",
       "      <td>18:00:00</td>\n",
       "      <td>258885</td>\n",
       "    </tr>\n",
       "    <tr>\n",
       "      <th>1313</th>\n",
       "      <td>34 ST-PENN STA</td>\n",
       "      <td>20:00:00</td>\n",
       "      <td>811241</td>\n",
       "    </tr>\n",
       "    <tr>\n",
       "      <th>1314</th>\n",
       "      <td>34 ST-PENN STA</td>\n",
       "      <td>22:00:00</td>\n",
       "      <td>213856</td>\n",
       "    </tr>\n",
       "  </tbody>\n",
       "</table>\n",
       "</div>"
      ],
      "text/plain": [
       "             station time_stamp  total_ppl\n",
       "1302  34 ST-PENN STA   00:00:00     314403\n",
       "1303  34 ST-PENN STA   06:00:00      19194\n",
       "1304  34 ST-PENN STA   08:00:00     355603\n",
       "1305  34 ST-PENN STA   10:00:00     482524\n",
       "1306  34 ST-PENN STA   12:00:00     782713\n",
       "1310  34 ST-PENN STA   14:00:00     221562\n",
       "1311  34 ST-PENN STA   16:00:00     487872\n",
       "1312  34 ST-PENN STA   18:00:00     258885\n",
       "1313  34 ST-PENN STA   20:00:00     811241\n",
       "1314  34 ST-PENN STA   22:00:00     213856"
      ]
     },
     "execution_count": 37,
     "metadata": {},
     "output_type": "execute_result"
    }
   ],
   "source": [
    "station_time('34 ST-PENN STA')[station_time('34 ST-PENN STA')['total_ppl'] > 1000]"
   ]
  },
  {
   "cell_type": "code",
   "execution_count": 38,
   "metadata": {},
   "outputs": [
    {
     "data": {
      "image/png": "[encoded data removed]",
      "text/plain": [
       "<Figure size 1080x360 with 2 Axes>"
      ]
     },
     "metadata": {},
     "output_type": "display_data"
    }
   ],
   "source": [
    "plt.figure(figsize=(15, 5)) #wide and tall\n",
    "\n",
    "#labels = ['12am, 4am, 8am, 12pm, 4pm, 8pm']\n",
    "\n",
    "plt.subplot(1, 2, 1)\n",
    "plt.plot(station_time('34 ST-PENN STA')[station_time('34 ST-PENN STA')['total_ppl'] > 1000].time_stamp,station_time('34 ST-PENN STA')[station_time('34 ST-PENN STA')['total_ppl'] > 1000].total_ppl)\n",
    "plt.title(\"Penn Station turnstile Entries by time of day\");\n",
    "plt.xscale('linear')\n",
    "plt.xticks(np.arange(0,11));\n",
    "plt.xlabel('Hours');\n",
    "\n",
    "plt.subplot(1, 2, 2)\n",
    "plt.bar(weekday_time('34 ST-PENN STA').time_stamp, weekday_time('34 ST-PENN STA').total_ppl);\n",
    "plt.title ('Penn Station turnstile entries (for Weekdays April 2018)')\n",
    "plt.xscale('linear');\n",
    "plt.xlabel('Hours');"
   ]
  },
  {
   "cell_type": "code",
   "execution_count": 39,
   "metadata": {},
   "outputs": [
    {
     "data": {
      "image/png": "[encoded data removed]",
      "text/plain": [
       "<Figure size 720x720 with 4 Axes>"
      ]
     },
     "metadata": {},
     "output_type": "display_data"
    }
   ],
   "source": [
    "plt.figure(figsize=(10, 10))\n",
    "\n",
    "plt.subplot(2, 2, 1)\n",
    "plt.plot(station_by_day('FULTON ST').weekday,station_by_day('FULTON ST').total_ppl)\n",
    "plt.title(\"Fulton Center turnstile Entries by Day\");\n",
    "\n",
    "labels = ['M','T','W','Th','F','Sa', 'Su']\n",
    "plt.xticks(np.arange(7), (labels));\n",
    "\n",
    "plt.subplot(2, 2, 2)\n",
    "plt.plot(weekdays('FULTON ST').weekday,weekdays('FULTON ST').total_ppl)\n",
    "plt.title(\"Fulton Center turnstile Entries by Weekday\");\n",
    "\n",
    "labels = ['M','T','W','Th','F']\n",
    "plt.xticks(np.arange(5), (labels));\n",
    "\n",
    "plt.subplot(2, 2, 3)\n",
    "plt.plot(station_by_day('PATH NEW WTC').weekday,station_by_day('PATH NEW WTC').total_ppl)\n",
    "plt.title(\"PATH WTC turnstile Entries by Day\");\n",
    "\n",
    "labels = ['M','T','W','Th','F','Sa', 'Su']\n",
    "plt.xticks(np.arange(7), (labels));\n",
    "\n",
    "plt.subplot(2, 2, 4)\n",
    "plt.plot(weekdays('PATH NEW WTC').weekday,weekdays('PATH NEW WTC').total_ppl)\n",
    "plt.title(\"PATH WTC turnstile Entries by Weekday\");\n",
    "\n",
    "labels = ['M','T','W','Th','F']\n",
    "plt.xticks(np.arange(5), (labels));\n"
   ]
  },
  {
   "cell_type": "code",
   "execution_count": 40,
   "metadata": {},
   "outputs": [
    {
     "data": {
      "text/html": [
       "<div>\n",
       "<style scoped>\n",
       "    .dataframe tbody tr th:only-of-type {\n",
       "        vertical-align: middle;\n",
       "    }\n",
       "\n",
       "    .dataframe tbody tr th {\n",
       "        vertical-align: top;\n",
       "    }\n",
       "\n",
       "    .dataframe thead th {\n",
       "        text-align: right;\n",
       "    }\n",
       "</style>\n",
       "<table border=\"1\" class=\"dataframe\">\n",
       "  <thead>\n",
       "    <tr style=\"text-align: right;\">\n",
       "      <th></th>\n",
       "      <th>station</th>\n",
       "      <th>time_stamp</th>\n",
       "      <th>total_ppl</th>\n",
       "    </tr>\n",
       "  </thead>\n",
       "  <tbody>\n",
       "    <tr>\n",
       "      <th>4320</th>\n",
       "      <td>FULTON ST</td>\n",
       "      <td>00:00:00</td>\n",
       "      <td>20518</td>\n",
       "    </tr>\n",
       "    <tr>\n",
       "      <th>4321</th>\n",
       "      <td>FULTON ST</td>\n",
       "      <td>05:00:00</td>\n",
       "      <td>10738</td>\n",
       "    </tr>\n",
       "    <tr>\n",
       "      <th>4322</th>\n",
       "      <td>FULTON ST</td>\n",
       "      <td>07:00:00</td>\n",
       "      <td>6602</td>\n",
       "    </tr>\n",
       "    <tr>\n",
       "      <th>4323</th>\n",
       "      <td>FULTON ST</td>\n",
       "      <td>08:00:00</td>\n",
       "      <td>11377</td>\n",
       "    </tr>\n",
       "    <tr>\n",
       "      <th>4324</th>\n",
       "      <td>FULTON ST</td>\n",
       "      <td>09:00:00</td>\n",
       "      <td>167230</td>\n",
       "    </tr>\n",
       "    <tr>\n",
       "      <th>4325</th>\n",
       "      <td>FULTON ST</td>\n",
       "      <td>11:00:00</td>\n",
       "      <td>87425</td>\n",
       "    </tr>\n",
       "    <tr>\n",
       "      <th>4326</th>\n",
       "      <td>FULTON ST</td>\n",
       "      <td>12:00:00</td>\n",
       "      <td>23507</td>\n",
       "    </tr>\n",
       "    <tr>\n",
       "      <th>4327</th>\n",
       "      <td>FULTON ST</td>\n",
       "      <td>13:00:00</td>\n",
       "      <td>231458</td>\n",
       "    </tr>\n",
       "    <tr>\n",
       "      <th>4328</th>\n",
       "      <td>FULTON ST</td>\n",
       "      <td>15:00:00</td>\n",
       "      <td>114055</td>\n",
       "    </tr>\n",
       "    <tr>\n",
       "      <th>4329</th>\n",
       "      <td>FULTON ST</td>\n",
       "      <td>16:00:00</td>\n",
       "      <td>39759</td>\n",
       "    </tr>\n",
       "    <tr>\n",
       "      <th>4330</th>\n",
       "      <td>FULTON ST</td>\n",
       "      <td>17:00:00</td>\n",
       "      <td>416599</td>\n",
       "    </tr>\n",
       "    <tr>\n",
       "      <th>4331</th>\n",
       "      <td>FULTON ST</td>\n",
       "      <td>19:00:00</td>\n",
       "      <td>322900</td>\n",
       "    </tr>\n",
       "    <tr>\n",
       "      <th>4332</th>\n",
       "      <td>FULTON ST</td>\n",
       "      <td>20:00:00</td>\n",
       "      <td>44293</td>\n",
       "    </tr>\n",
       "    <tr>\n",
       "      <th>4333</th>\n",
       "      <td>FULTON ST</td>\n",
       "      <td>21:00:00</td>\n",
       "      <td>622844</td>\n",
       "    </tr>\n",
       "    <tr>\n",
       "      <th>4334</th>\n",
       "      <td>FULTON ST</td>\n",
       "      <td>23:00:00</td>\n",
       "      <td>96349</td>\n",
       "    </tr>\n",
       "  </tbody>\n",
       "</table>\n",
       "</div>"
      ],
      "text/plain": [
       "        station time_stamp  total_ppl\n",
       "4320  FULTON ST   00:00:00      20518\n",
       "4321  FULTON ST   05:00:00      10738\n",
       "4322  FULTON ST   07:00:00       6602\n",
       "4323  FULTON ST   08:00:00      11377\n",
       "4324  FULTON ST   09:00:00     167230\n",
       "4325  FULTON ST   11:00:00      87425\n",
       "4326  FULTON ST   12:00:00      23507\n",
       "4327  FULTON ST   13:00:00     231458\n",
       "4328  FULTON ST   15:00:00     114055\n",
       "4329  FULTON ST   16:00:00      39759\n",
       "4330  FULTON ST   17:00:00     416599\n",
       "4331  FULTON ST   19:00:00     322900\n",
       "4332  FULTON ST   20:00:00      44293\n",
       "4333  FULTON ST   21:00:00     622844\n",
       "4334  FULTON ST   23:00:00      96349"
      ]
     },
     "execution_count": 40,
     "metadata": {},
     "output_type": "execute_result"
    }
   ],
   "source": [
    "station_time('FULTON ST')"
   ]
  },
  {
   "cell_type": "code",
   "execution_count": 63,
   "metadata": {},
   "outputs": [
    {
     "data": {
      "image/png": "[encoded data removed]",
      "text/plain": [
       "<Figure size 1080x1080 with 4 Axes>"
      ]
     },
     "metadata": {},
     "output_type": "display_data"
    }
   ],
   "source": [
    "plt.figure(figsize=(15, 15))\n",
    "\n",
    "plt.subplot(2, 2, 1)\n",
    "plt.plot(station_time('FULTON ST').time_stamp,station_time('FULTON ST').total_ppl)\n",
    "plt.title(\"Fulton Center turnstile Entries by time of day\");\n",
    "plt.xscale('linear')\n",
    "plt.xticks(np.arange(0,12));\n",
    "plt.xlabel('Hours');\n",
    "\n",
    "plt.subplot(2, 2, 2)\n",
    "plt.bar(weekday_time('FULTON ST').time_stamp, weekday_time('FULTON ST').total_ppl);\n",
    "plt.title ('Fulton Center turnstile entries (for Weekdays April 2018)')\n",
    "plt.xscale('linear');\n",
    "plt.xticks(np.arange(0,12));\n",
    "plt.xlabel('Hours');\n",
    "\n",
    "plt.subplot(2, 2, 3)\n",
    "plt.plot(station_time('PATH NEW WTC').time_stamp,station_time('PATH NEW WTC').total_ppl)\n",
    "plt.title(\"PATH WTC turnstile Entries by time of day\");\n",
    "plt.xscale('linear')\n",
    "plt.xticks(np.arange(0,12));\n",
    "plt.xlabel('Hours');\n",
    "\n",
    "plt.subplot(2, 2, 4)\n",
    "plt.bar(weekday_time('PATH NEW WTC').time_stamp, weekday_time('PATH NEW WTC').total_ppl);\n",
    "plt.title ('PATH WTC turnstile entries (for Weekdays April 2018)')\n",
    "plt.xscale('linear');\n",
    "plt.xticks(np.arange(0,12));\n",
    "plt.xlabel('Hours');"
   ]
  },
  {
   "cell_type": "code",
   "execution_count": 43,
   "metadata": {},
   "outputs": [
    {
     "data": {
      "text/html": [
       "<div>\n",
       "<style scoped>\n",
       "    .dataframe tbody tr th:only-of-type {\n",
       "        vertical-align: middle;\n",
       "    }\n",
       "\n",
       "    .dataframe tbody tr th {\n",
       "        vertical-align: top;\n",
       "    }\n",
       "\n",
       "    .dataframe thead th {\n",
       "        text-align: right;\n",
       "    }\n",
       "</style>\n",
       "<table border=\"1\" class=\"dataframe\">\n",
       "  <thead>\n",
       "    <tr style=\"text-align: right;\">\n",
       "      <th></th>\n",
       "      <th>station</th>\n",
       "      <th>total_ppl</th>\n",
       "    </tr>\n",
       "  </thead>\n",
       "  <tbody>\n",
       "    <tr>\n",
       "      <th>58</th>\n",
       "      <td>34 ST-PENN STA</td>\n",
       "      <td>3948737</td>\n",
       "    </tr>\n",
       "    <tr>\n",
       "      <th>223</th>\n",
       "      <td>GRD CNTRL-42 ST</td>\n",
       "      <td>3375891</td>\n",
       "    </tr>\n",
       "    <tr>\n",
       "      <th>57</th>\n",
       "      <td>34 ST-HERALD SQ</td>\n",
       "      <td>2699590</td>\n",
       "    </tr>\n",
       "    <tr>\n",
       "      <th>45</th>\n",
       "      <td>23 ST</td>\n",
       "      <td>2653383</td>\n",
       "    </tr>\n",
       "    <tr>\n",
       "      <th>335</th>\n",
       "      <td>TIMES SQ-42 ST</td>\n",
       "      <td>2364082</td>\n",
       "    </tr>\n",
       "    <tr>\n",
       "      <th>14</th>\n",
       "      <td>14 ST-UNION SQ</td>\n",
       "      <td>2278722</td>\n",
       "    </tr>\n",
       "    <tr>\n",
       "      <th>216</th>\n",
       "      <td>FULTON ST</td>\n",
       "      <td>2215654</td>\n",
       "    </tr>\n",
       "    <tr>\n",
       "      <th>64</th>\n",
       "      <td>42 ST-PORT AUTH</td>\n",
       "      <td>2185570</td>\n",
       "    </tr>\n",
       "    <tr>\n",
       "      <th>105</th>\n",
       "      <td>86 ST</td>\n",
       "      <td>2056315</td>\n",
       "    </tr>\n",
       "    <tr>\n",
       "      <th>82</th>\n",
       "      <td>59 ST COLUMBUS</td>\n",
       "      <td>1804594</td>\n",
       "    </tr>\n",
       "    <tr>\n",
       "      <th>9</th>\n",
       "      <td>125 ST</td>\n",
       "      <td>1742013</td>\n",
       "    </tr>\n",
       "    <tr>\n",
       "      <th>165</th>\n",
       "      <td>CANAL ST</td>\n",
       "      <td>1666896</td>\n",
       "    </tr>\n",
       "    <tr>\n",
       "      <th>81</th>\n",
       "      <td>59 ST</td>\n",
       "      <td>1538714</td>\n",
       "    </tr>\n",
       "    <tr>\n",
       "      <th>109</th>\n",
       "      <td>96 ST</td>\n",
       "      <td>1444618</td>\n",
       "    </tr>\n",
       "    <tr>\n",
       "      <th>171</th>\n",
       "      <td>CHAMBERS ST</td>\n",
       "      <td>1417019</td>\n",
       "    </tr>\n",
       "    <tr>\n",
       "      <th>207</th>\n",
       "      <td>FLUSHING-MAIN</td>\n",
       "      <td>1388078</td>\n",
       "    </tr>\n",
       "    <tr>\n",
       "      <th>13</th>\n",
       "      <td>14 ST</td>\n",
       "      <td>1307251</td>\n",
       "    </tr>\n",
       "    <tr>\n",
       "      <th>68</th>\n",
       "      <td>47-50 STS ROCK</td>\n",
       "      <td>1275608</td>\n",
       "    </tr>\n",
       "    <tr>\n",
       "      <th>247</th>\n",
       "      <td>JKSN HT-ROOSVLT</td>\n",
       "      <td>1227706</td>\n",
       "    </tr>\n",
       "    <tr>\n",
       "      <th>298</th>\n",
       "      <td>PATH NEW WTC</td>\n",
       "      <td>1222604</td>\n",
       "    </tr>\n",
       "  </tbody>\n",
       "</table>\n",
       "</div>"
      ],
      "text/plain": [
       "             station  total_ppl\n",
       "58    34 ST-PENN STA    3948737\n",
       "223  GRD CNTRL-42 ST    3375891\n",
       "57   34 ST-HERALD SQ    2699590\n",
       "45             23 ST    2653383\n",
       "335   TIMES SQ-42 ST    2364082\n",
       "14    14 ST-UNION SQ    2278722\n",
       "216        FULTON ST    2215654\n",
       "64   42 ST-PORT AUTH    2185570\n",
       "105            86 ST    2056315\n",
       "82    59 ST COLUMBUS    1804594\n",
       "9             125 ST    1742013\n",
       "165         CANAL ST    1666896\n",
       "81             59 ST    1538714\n",
       "109            96 ST    1444618\n",
       "171      CHAMBERS ST    1417019\n",
       "207    FLUSHING-MAIN    1388078\n",
       "13             14 ST    1307251\n",
       "68    47-50 STS ROCK    1275608\n",
       "247  JKSN HT-ROOSVLT    1227706\n",
       "298     PATH NEW WTC    1222604"
      ]
     },
     "execution_count": 43,
     "metadata": {},
     "output_type": "execute_result"
    }
   ],
   "source": [
    "#Check all target locations in top 20 busiest stations overall \n",
    "#Would exclude other top stations due to tourists not in town for gala:  Herald Sq, Times Sq\n",
    "#Or commuters who live out of town in NJ and CT and excluded from target population: Grand Central, Port Authority\n",
    "\n",
    "total_by_station.sort_values(by = ['total_ppl'], ascending = (False)).head(20)"
   ]
  },
  {
   "cell_type": "code",
   "execution_count": 82,
   "metadata": {},
   "outputs": [
    {
     "data": {
      "text/plain": [
       "1.0    1440\n",
       "3.0    1440\n",
       "2.0    1440\n",
       "0.0    1440\n",
       "4.0    1439\n",
       "5.0    1419\n",
       "6.0    1414\n",
       "Name: weekday, dtype: int64"
      ]
     },
     "execution_count": 82,
     "metadata": {},
     "output_type": "execute_result"
    }
   ],
   "source": [
    "weekly_time_of_day.weekday.value_counts()"
   ]
  },
  {
   "cell_type": "code",
   "execution_count": 103,
   "metadata": {},
   "outputs": [],
   "source": [
    "weekday = (weekly_time_of_day.weekday == 0) | (weekly_time_of_day.weekday == 1)| (weekly_time_of_day.weekday == 2)| (weekly_time_of_day.weekday == 3)| (weekly_time_of_day.weekday == 4)"
   ]
  },
  {
   "cell_type": "code",
   "execution_count": 106,
   "metadata": {},
   "outputs": [],
   "source": [
    "weekdays = weekly_time_of_day[weekday]"
   ]
  },
  {
   "cell_type": "code",
   "execution_count": 107,
   "metadata": {},
   "outputs": [
    {
     "data": {
      "text/html": [
       "<div>\n",
       "<style scoped>\n",
       "    .dataframe tbody tr th:only-of-type {\n",
       "        vertical-align: middle;\n",
       "    }\n",
       "\n",
       "    .dataframe tbody tr th {\n",
       "        vertical-align: top;\n",
       "    }\n",
       "\n",
       "    .dataframe thead th {\n",
       "        text-align: right;\n",
       "    }\n",
       "</style>\n",
       "<table border=\"1\" class=\"dataframe\">\n",
       "  <thead>\n",
       "    <tr style=\"text-align: right;\">\n",
       "      <th></th>\n",
       "      <th>station</th>\n",
       "      <th>date_stamp</th>\n",
       "      <th>time_stamp</th>\n",
       "      <th>total_ppl</th>\n",
       "      <th>weekday</th>\n",
       "    </tr>\n",
       "  </thead>\n",
       "  <tbody>\n",
       "    <tr>\n",
       "      <th>2518</th>\n",
       "      <td>14 ST-UNION SQ</td>\n",
       "      <td>2018-03-31</td>\n",
       "      <td>05:00:00</td>\n",
       "      <td>2171</td>\n",
       "      <td>4.0</td>\n",
       "    </tr>\n",
       "    <tr>\n",
       "      <th>2521</th>\n",
       "      <td>14 ST-UNION SQ</td>\n",
       "      <td>2018-03-31</td>\n",
       "      <td>17:00:00</td>\n",
       "      <td>21666</td>\n",
       "      <td>0.0</td>\n",
       "    </tr>\n",
       "    <tr>\n",
       "      <th>2522</th>\n",
       "      <td>14 ST-UNION SQ</td>\n",
       "      <td>2018-03-31</td>\n",
       "      <td>21:00:00</td>\n",
       "      <td>22169</td>\n",
       "      <td>1.0</td>\n",
       "    </tr>\n",
       "    <tr>\n",
       "      <th>2523</th>\n",
       "      <td>14 ST-UNION SQ</td>\n",
       "      <td>2018-04-01</td>\n",
       "      <td>05:00:00</td>\n",
       "      <td>2216</td>\n",
       "      <td>2.0</td>\n",
       "    </tr>\n",
       "    <tr>\n",
       "      <th>2524</th>\n",
       "      <td>14 ST-UNION SQ</td>\n",
       "      <td>2018-04-01</td>\n",
       "      <td>09:00:00</td>\n",
       "      <td>1309</td>\n",
       "      <td>3.0</td>\n",
       "    </tr>\n",
       "  </tbody>\n",
       "</table>\n",
       "</div>"
      ],
      "text/plain": [
       "             station  date_stamp time_stamp  total_ppl  weekday\n",
       "2518  14 ST-UNION SQ  2018-03-31   05:00:00       2171      4.0\n",
       "2521  14 ST-UNION SQ  2018-03-31   17:00:00      21666      0.0\n",
       "2522  14 ST-UNION SQ  2018-03-31   21:00:00      22169      1.0\n",
       "2523  14 ST-UNION SQ  2018-04-01   05:00:00       2216      2.0\n",
       "2524  14 ST-UNION SQ  2018-04-01   09:00:00       1309      3.0"
      ]
     },
     "execution_count": 107,
     "metadata": {},
     "output_type": "execute_result"
    }
   ],
   "source": [
    "targeted_stations = (weekdays.station == '34 ST-PENN STA')|(weekdays.station == '14 ST-UNION SQ')|(weekdays.station == '14 ST-UNION SQ')|(weekdays.station == 'FULTON ST')|(weekdays.station == 'PATH NEW WTC')\n",
    "weekdays[targeted_stations].head()\n"
   ]
  },
  {
   "cell_type": "code",
   "execution_count": 115,
   "metadata": {},
   "outputs": [
    {
     "data": {
      "image/png": "[encoded data removed]",
      "text/plain": [
       "<Figure size 432x288 with 1 Axes>"
      ]
     },
     "metadata": {},
     "output_type": "display_data"
    }
   ],
   "source": [
    "#Combined station total for Union Square, Penn Station and Transportation Hub\n",
    "\n",
    "plt.bar(weekdays[targeted_stations].weekday, weekdays[targeted_stations].total_ppl)\n",
    "\n",
    "labels = ['M','T','W','Th','F']\n",
    "plt.xticks(np.arange(5), (labels));"
   ]
  },
  {
   "cell_type": "code",
   "execution_count": null,
   "metadata": {},
   "outputs": [],
   "source": []
  },
  {
   "cell_type": "code",
   "execution_count": null,
   "metadata": {},
   "outputs": [],
   "source": []
  }
 ],
 "metadata": {
  "kernelspec": {
   "display_name": "Python 3",
   "language": "python",
   "name": "python3"
  },
  "language_info": {
   "codemirror_mode": {
    "name": "ipython",
    "version": 3
   },
   "file_extension": ".py",
   "mimetype": "text/x-python",
   "name": "python",
   "nbconvert_exporter": "python",
   "pygments_lexer": "ipython3",
   "version": "3.6.5"
  }
 },
 "nbformat": 4,
 "nbformat_minor": 2
}
